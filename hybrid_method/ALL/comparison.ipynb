{
 "cells": [
  {
   "cell_type": "code",
   "execution_count": 12,
   "metadata": {},
   "outputs": [],
   "source": [
    "import numpy as np\n",
    "import matplotlib.pyplot as plt\n",
    "import tensorflow as tf\n",
    "from tensorflow.keras.layers import Input, Dense, Dropout\n",
    "from tensorflow.keras.models import Model, Sequential\n",
    "from sklearn.metrics import roc_curve, auc,roc_auc_score\n",
    "from sklearn.model_selection import train_test_split\n",
    "from sklearn.utils import shuffle\n",
    "import pandas as pd\n",
    "from matplotlib import gridspec\n",
    "from scipy import stats, interpolate\n",
    "import os\n",
    "from tensorflow.keras import backend as K  \n",
    "\n",
    "import tqdm\n",
    "\n"
   ]
  },
  {
   "cell_type": "code",
   "execution_count": 13,
   "metadata": {},
   "outputs": [],
   "source": []
  },
  {
   "cell_type": "code",
   "execution_count": 14,
   "metadata": {},
   "outputs": [],
   "source": []
  },
  {
   "cell_type": "code",
   "execution_count": 15,
   "metadata": {},
   "outputs": [],
   "source": [
    "alpha = 0.1\n",
    "\n",
    "def load_dataT21(input_frame):\n",
    "    dataset = input_frame[[\"mj1\",\"tau1j1\",\"tau2j1\",\"mj2\",\"tau1j2\",\"tau2j2\"]]\n",
    "    dataset[\"mjj\"] = (((input_frame[\"pxj1\"]**2+input_frame[\"pyj1\"]**2+input_frame[\"pzj1\"]**2+input_frame[\"mj1\"]**2)**0.5+(input_frame[\"pxj2\"]**2+input_frame[\"pyj2\"]**2+input_frame[\"pzj2\"]**2+input_frame[\"mj2\"]**2)**0.5)**2-(input_frame[\"pxj1\"]+input_frame[\"pxj2\"])**2-(input_frame[\"pyj1\"]+input_frame[\"pyj2\"])**2-(input_frame[\"pzj1\"]+input_frame[\"pzj2\"])**2)**0.5/1000.\n",
    "    dataset[\"mjTwo\"] = dataset[[\"mj1\", \"mj2\"]].max(axis=1)\n",
    "    dataset[\"mjOne\"] = dataset[[\"mj1\", \"mj2\"]].min(axis=1)\n",
    "\n",
    "    dataset[\"tau1jOne\"] = (dataset[\"mjOne\"] == dataset[\"mj1\"])*dataset[\"tau1j1\"]+(dataset[\"mjOne\"] == dataset[\"mj2\"])*dataset[\"tau1j2\"]\n",
    "    dataset[\"tau2jOne\"] = (dataset[\"mjOne\"] == dataset[\"mj1\"])*dataset[\"tau2j1\"]+(dataset[\"mjOne\"] == dataset[\"mj2\"])*dataset[\"tau2j2\"]\n",
    "    dataset[\"tau1jTwo\"] = (dataset[\"mjTwo\"] == dataset[\"mj1\"])*dataset[\"tau1j1\"]+(dataset[\"mjTwo\"] == dataset[\"mj2\"])*dataset[\"tau1j2\"]\n",
    "    dataset[\"tau2jTwo\"] = (dataset[\"mjTwo\"] == dataset[\"mj1\"])*dataset[\"tau2j1\"]+(dataset[\"mjTwo\"] == dataset[\"mj2\"])*dataset[\"tau2j2\"]\n",
    "    dataset[\"tau21jOne\"] = dataset[\"tau2jOne\"]/dataset[\"tau1jOne\"]\n",
    "    dataset[\"tau21jTwo\"] = dataset[\"tau2jTwo\"]/dataset[\"tau1jTwo\"]\n",
    "    dataset[\"mjTwo\"] = dataset[\"mjTwo\"]/1000. + 2*alpha*dataset[\"mjj\"]\n",
    "    dataset[\"mjOne\"] = dataset[\"mjOne\"]/1000. + alpha*dataset[\"mjj\"]\n",
    "    dataset[\"mjDelta\"] = (dataset[\"mjTwo\"] - dataset[\"mjOne\"])\n",
    "\n",
    "    dataset = dataset.fillna(0)\n",
    "    dataset = dataset[[\"mjj\",\"mjOne\",\"mjDelta\", \"tau21jOne\", \"tau21jTwo\"]]\n",
    "    return dataset.to_numpy()\n",
    "\n",
    "def load_dataT32(input_frame):\n",
    "    dataset = input_frame[[\"mj1\",\"tau1j1\",\"tau2j1\",\"mj2\",\"tau1j2\",\"tau2j2\",\"tau3j1\",\"tau3j2\"]]\n",
    "    dataset[\"mjj\"] = (((input_frame[\"pxj1\"]**2+input_frame[\"pyj1\"]**2+input_frame[\"pzj1\"]**2+input_frame[\"mj1\"]**2)**0.5+(input_frame[\"pxj2\"]**2+input_frame[\"pyj2\"]**2+input_frame[\"pzj2\"]**2+input_frame[\"mj2\"]**2)**0.5)**2-(input_frame[\"pxj1\"]+input_frame[\"pxj2\"])**2-(input_frame[\"pyj1\"]+input_frame[\"pyj2\"])**2-(input_frame[\"pzj1\"]+input_frame[\"pzj2\"])**2)**0.5/1000.\n",
    "    dataset[\"mjTwo\"] = dataset[[\"mj1\", \"mj2\"]].max(axis=1)\n",
    "    dataset[\"mjOne\"] = dataset[[\"mj1\", \"mj2\"]].min(axis=1)\n",
    "\n",
    "    dataset[\"tau2jOne\"] = (dataset[\"mjOne\"] == dataset[\"mj1\"])*dataset[\"tau2j1\"]+(dataset[\"mjOne\"] == dataset[\"mj2\"])*dataset[\"tau2j2\"]\n",
    "    dataset[\"tau2jTwo\"] = (dataset[\"mjTwo\"] == dataset[\"mj1\"])*dataset[\"tau2j1\"]+(dataset[\"mjTwo\"] == dataset[\"mj2\"])*dataset[\"tau2j2\"]\n",
    "    dataset[\"tau3jOne\"] = (dataset[\"mjOne\"] == dataset[\"mj1\"])*dataset[\"tau3j1\"]+(dataset[\"mjOne\"] == dataset[\"mj2\"])*dataset[\"tau3j2\"]\n",
    "    dataset[\"tau3jTwo\"] = (dataset[\"mjTwo\"] == dataset[\"mj1\"])*dataset[\"tau3j1\"]+(dataset[\"mjTwo\"] == dataset[\"mj2\"])*dataset[\"tau3j2\"]\n",
    "    dataset[\"tau32jOne\"] = dataset[\"tau3jOne\"]/dataset[\"tau2jOne\"]\n",
    "    dataset[\"tau32jTwo\"] = dataset[\"tau3jTwo\"]/dataset[\"tau2jTwo\"] \n",
    "    dataset[\"mjTwo\"] = dataset[\"mjTwo\"]/1000. + 2*alpha*dataset[\"mjj\"]\n",
    "    dataset[\"mjOne\"] = dataset[\"mjOne\"]/1000. + alpha*dataset[\"mjj\"]\n",
    "    dataset[\"mjDelta\"] = (dataset[\"mjTwo\"] - dataset[\"mjOne\"])\n",
    "\n",
    "    dataset = dataset.fillna(0)\n",
    "    dataset = dataset[[\"mjj\",\"mjOne\",\"mjDelta\", \"tau32jOne\", \"tau32jTwo\"]]\n",
    "    return dataset.to_numpy()\n",
    "\n",
    "def load_data_more(input_frame):\n",
    "    dataset = input_frame[[\"mj1\",\"tau1j1\",\"tau2j1\",\"mj2\",\"tau1j2\",\"tau2j2\",\"tau3j1\",\"tau3j2\"]]\n",
    "    \n",
    "    #Masa ya al cuadrado\n",
    "    dataset[\"mjj\"] = (((input_frame[\"pxj1\"]**2+input_frame[\"pyj1\"]**2+input_frame[\"pzj1\"]**2+input_frame[\"mj1\"]**2)**0.5+(input_frame[\"pxj2\"]**2+input_frame[\"pyj2\"]**2+input_frame[\"pzj2\"]**2+input_frame[\"mj2\"]**2)**0.5)**2-(input_frame[\"pxj1\"]+input_frame[\"pxj2\"])**2-(input_frame[\"pyj1\"]+input_frame[\"pyj2\"])**2-(input_frame[\"pzj1\"]+input_frame[\"pzj2\"])**2)**0.5/1000.\n",
    "    \n",
    "    \n",
    "    dataset[\"mjTwo\"] = dataset[[\"mj1\", \"mj2\"]].max(axis=1)\n",
    "    dataset[\"mjOne\"] = dataset[[\"mj1\", \"mj2\"]].min(axis=1)\n",
    "\n",
    "    dataset[\"tau1jOne\"] = (dataset[\"mjOne\"] == dataset[\"mj1\"])*dataset[\"tau1j1\"]+(dataset[\"mjOne\"] == dataset[\"mj2\"])*dataset[\"tau1j2\"]\n",
    "    dataset[\"tau2jOne\"] = (dataset[\"mjOne\"] == dataset[\"mj1\"])*dataset[\"tau2j1\"]+(dataset[\"mjOne\"] == dataset[\"mj2\"])*dataset[\"tau2j2\"]\n",
    "    dataset[\"tau1jTwo\"] = (dataset[\"mjTwo\"] == dataset[\"mj1\"])*dataset[\"tau1j1\"]+(dataset[\"mjTwo\"] == dataset[\"mj2\"])*dataset[\"tau1j2\"]\n",
    "    dataset[\"tau2jTwo\"] = (dataset[\"mjTwo\"] == dataset[\"mj1\"])*dataset[\"tau2j1\"]+(dataset[\"mjTwo\"] == dataset[\"mj2\"])*dataset[\"tau2j2\"]\n",
    "    dataset[\"tau21jOne\"] = dataset[\"tau2jOne\"]/dataset[\"tau1jOne\"]\n",
    "    dataset[\"tau21jTwo\"] = dataset[\"tau2jTwo\"]/dataset[\"tau1jTwo\"]\n",
    "    \n",
    "    #tau32\n",
    "    dataset[\"tau3jOne\"] = (dataset[\"mjOne\"] == dataset[\"mj1\"])*dataset[\"tau3j1\"]+(dataset[\"mjOne\"] == dataset[\"mj2\"])*dataset[\"tau3j2\"]\n",
    "    dataset[\"tau3jTwo\"] = (dataset[\"mjTwo\"] == dataset[\"mj1\"])*dataset[\"tau3j1\"]+(dataset[\"mjTwo\"] == dataset[\"mj2\"])*dataset[\"tau3j2\"]\n",
    "    dataset[\"tau32jOne\"] = dataset[\"tau3jOne\"]/dataset[\"tau2jOne\"]\n",
    "    dataset[\"tau32jTwo\"] = dataset[\"tau3jTwo\"]/dataset[\"tau2jTwo\"]   \n",
    "    \n",
    "    #pT\n",
    "    dataset[\"pT1\"] = (input_frame[\"pxj1\"]**2+input_frame[\"pyj1\"]**2)**0.5/1000.\n",
    "    dataset[\"pT2\"] = (input_frame[\"pxj2\"]**2+input_frame[\"pyj2\"]**2)**0.5/1000.\n",
    "    dataset[\"pTjOne\"] = (dataset[\"mjOne\"] == dataset[\"mj1\"])*dataset[\"pT1\"]+(dataset[\"mjOne\"] == dataset[\"mj2\"])*dataset[\"pT2\"]\n",
    "    dataset[\"pTjTwo\"] = (dataset[\"mjTwo\"] == dataset[\"mj1\"])*dataset[\"pT1\"]+(dataset[\"mjTwo\"] == dataset[\"mj2\"])*dataset[\"pT2\"]    \n",
    "    \n",
    "    #eta\n",
    "    dataset[\"E1\"] = ((1000*dataset[\"pT1\"])**2+input_frame[\"pzj1\"]**2+input_frame[\"mj1\"]**2)**0.5/1000.\n",
    "    dataset[\"E2\"] = ((1000*dataset[\"pT2\"])**2+input_frame[\"pzj2\"]**2+input_frame[\"mj2\"]**2)**0.5/1000.\n",
    "    dataset[\"y1\"] = 0.5*np.log((dataset[\"E1\"] + input_frame[\"pzj1\"]/1000.)/(dataset[\"E1\"] - input_frame[\"pzj1\"]/1000.))\n",
    "    dataset[\"y2\"] = 0.5*np.log((dataset[\"E2\"] + input_frame[\"pzj2\"]/1000.)/(dataset[\"E2\"] - input_frame[\"pzj2\"]/1000.))\n",
    "    dataset[\"Dy\"] = dataset[\"y1\"]-dataset[\"y2\"]\n",
    "    \n",
    "    dataset[\"mjTwo\"] = dataset[\"mjTwo\"]/1000. + 2*alpha*dataset[\"mjj\"]\n",
    "    dataset[\"mjOne\"] = dataset[\"mjOne\"]/1000. + alpha*dataset[\"mjj\"]\n",
    "    dataset[\"mjDelta\"] = (dataset[\"mjTwo\"] - dataset[\"mjOne\"])\n",
    "\n",
    "    dataset = dataset.fillna(0)\n",
    "    dataset = dataset[[\"mjj\",\"mjOne\",\"mjDelta\", \"tau21jOne\", \"tau21jTwo\", \"tau32jOne\", \"tau32jTwo\",\"pTjOne\",\"pTjTwo\",\"Dy\"]]\n",
    "    return dataset.to_numpy()\n",
    "\n",
    "column_labelsT21 = [\n",
    "    r\"$m_{JJ}$\",\n",
    "    r\"$m^{J_1}$\",\n",
    "    \"$m^{J_2} - m^{J_1}$\",\n",
    "    r\"$\\tau_{2,1}^{J_1}$\", \n",
    "    r\"$\\tau_{2,1}^{J_2}$\",\n",
    "]\n",
    "\n",
    "column_labelsT32 = [\n",
    "    r\"$m_{JJ}$\",\n",
    "    r\"$m^{J_1}$\",\n",
    "    \"$m^{J_2} - m^{J_1}$\",\n",
    "    r\"$\\tau_{3,2}^{J_1}$\", \n",
    "    r\"$\\tau_{3,2}^{J_2}$\",\n",
    "]"
   ]
  },
  {
   "cell_type": "code",
   "execution_count": 16,
   "metadata": {},
   "outputs": [],
   "source": [
    "#original_data=pd.read_hdf(\"C:/Users/knukl/Desktop/FINAL/input/events_anomalydetection_v2.features.h5\")\n",
    "original_data=pd.read_hdf(\"/Users/bolit/OneDrive/Documentos/Tec/7_semestre/investigacion/CWoLa_ANN_Analysis/content/events_anomalydetection_v2.features.h5\")\n",
    "features_sig=original_data.query(\"label == 1\")\n",
    "features_bg=original_data.query(\"label == 0\")\n",
    "\n",
    "\n",
    "features_bg2=pd.read_hdf(\"/Users/bolit/OneDrive/Documentos/Tec/7_semestre/investigacion/CWoLa_ANN_Analysis/content/events_anomalydetection_DelphesHerwig_qcd_features.h5\")"
   ]
  },
  {
   "cell_type": "code",
   "execution_count": 17,
   "metadata": {},
   "outputs": [
    {
     "name": "stderr",
     "output_type": "stream",
     "text": [
      "C:\\Users\\bolit\\AppData\\Local\\Temp\\ipykernel_13380\\259476259.py:5: SettingWithCopyWarning: \n",
      "A value is trying to be set on a copy of a slice from a DataFrame.\n",
      "Try using .loc[row_indexer,col_indexer] = value instead\n",
      "\n",
      "See the caveats in the documentation: https://pandas.pydata.org/pandas-docs/stable/user_guide/indexing.html#returning-a-view-versus-a-copy\n",
      "  dataset[\"mjj\"] = (((input_frame[\"pxj1\"]**2+input_frame[\"pyj1\"]**2+input_frame[\"pzj1\"]**2+input_frame[\"mj1\"]**2)**0.5+(input_frame[\"pxj2\"]**2+input_frame[\"pyj2\"]**2+input_frame[\"pzj2\"]**2+input_frame[\"mj2\"]**2)**0.5)**2-(input_frame[\"pxj1\"]+input_frame[\"pxj2\"])**2-(input_frame[\"pyj1\"]+input_frame[\"pyj2\"])**2-(input_frame[\"pzj1\"]+input_frame[\"pzj2\"])**2)**0.5/1000.\n",
      "C:\\Users\\bolit\\AppData\\Local\\Temp\\ipykernel_13380\\259476259.py:6: SettingWithCopyWarning: \n",
      "A value is trying to be set on a copy of a slice from a DataFrame.\n",
      "Try using .loc[row_indexer,col_indexer] = value instead\n",
      "\n",
      "See the caveats in the documentation: https://pandas.pydata.org/pandas-docs/stable/user_guide/indexing.html#returning-a-view-versus-a-copy\n",
      "  dataset[\"mjTwo\"] = dataset[[\"mj1\", \"mj2\"]].max(axis=1)\n",
      "C:\\Users\\bolit\\AppData\\Local\\Temp\\ipykernel_13380\\259476259.py:7: SettingWithCopyWarning: \n",
      "A value is trying to be set on a copy of a slice from a DataFrame.\n",
      "Try using .loc[row_indexer,col_indexer] = value instead\n",
      "\n",
      "See the caveats in the documentation: https://pandas.pydata.org/pandas-docs/stable/user_guide/indexing.html#returning-a-view-versus-a-copy\n",
      "  dataset[\"mjOne\"] = dataset[[\"mj1\", \"mj2\"]].min(axis=1)\n",
      "C:\\Users\\bolit\\AppData\\Local\\Temp\\ipykernel_13380\\259476259.py:9: SettingWithCopyWarning: \n",
      "A value is trying to be set on a copy of a slice from a DataFrame.\n",
      "Try using .loc[row_indexer,col_indexer] = value instead\n",
      "\n",
      "See the caveats in the documentation: https://pandas.pydata.org/pandas-docs/stable/user_guide/indexing.html#returning-a-view-versus-a-copy\n",
      "  dataset[\"tau1jOne\"] = (dataset[\"mjOne\"] == dataset[\"mj1\"])*dataset[\"tau1j1\"]+(dataset[\"mjOne\"] == dataset[\"mj2\"])*dataset[\"tau1j2\"]\n",
      "C:\\Users\\bolit\\AppData\\Local\\Temp\\ipykernel_13380\\259476259.py:10: SettingWithCopyWarning: \n",
      "A value is trying to be set on a copy of a slice from a DataFrame.\n",
      "Try using .loc[row_indexer,col_indexer] = value instead\n",
      "\n",
      "See the caveats in the documentation: https://pandas.pydata.org/pandas-docs/stable/user_guide/indexing.html#returning-a-view-versus-a-copy\n",
      "  dataset[\"tau2jOne\"] = (dataset[\"mjOne\"] == dataset[\"mj1\"])*dataset[\"tau2j1\"]+(dataset[\"mjOne\"] == dataset[\"mj2\"])*dataset[\"tau2j2\"]\n",
      "C:\\Users\\bolit\\AppData\\Local\\Temp\\ipykernel_13380\\259476259.py:11: SettingWithCopyWarning: \n",
      "A value is trying to be set on a copy of a slice from a DataFrame.\n",
      "Try using .loc[row_indexer,col_indexer] = value instead\n",
      "\n",
      "See the caveats in the documentation: https://pandas.pydata.org/pandas-docs/stable/user_guide/indexing.html#returning-a-view-versus-a-copy\n",
      "  dataset[\"tau1jTwo\"] = (dataset[\"mjTwo\"] == dataset[\"mj1\"])*dataset[\"tau1j1\"]+(dataset[\"mjTwo\"] == dataset[\"mj2\"])*dataset[\"tau1j2\"]\n",
      "C:\\Users\\bolit\\AppData\\Local\\Temp\\ipykernel_13380\\259476259.py:12: SettingWithCopyWarning: \n",
      "A value is trying to be set on a copy of a slice from a DataFrame.\n",
      "Try using .loc[row_indexer,col_indexer] = value instead\n",
      "\n",
      "See the caveats in the documentation: https://pandas.pydata.org/pandas-docs/stable/user_guide/indexing.html#returning-a-view-versus-a-copy\n",
      "  dataset[\"tau2jTwo\"] = (dataset[\"mjTwo\"] == dataset[\"mj1\"])*dataset[\"tau2j1\"]+(dataset[\"mjTwo\"] == dataset[\"mj2\"])*dataset[\"tau2j2\"]\n",
      "C:\\Users\\bolit\\AppData\\Local\\Temp\\ipykernel_13380\\259476259.py:13: SettingWithCopyWarning: \n",
      "A value is trying to be set on a copy of a slice from a DataFrame.\n",
      "Try using .loc[row_indexer,col_indexer] = value instead\n",
      "\n",
      "See the caveats in the documentation: https://pandas.pydata.org/pandas-docs/stable/user_guide/indexing.html#returning-a-view-versus-a-copy\n",
      "  dataset[\"tau21jOne\"] = dataset[\"tau2jOne\"]/dataset[\"tau1jOne\"]\n",
      "C:\\Users\\bolit\\AppData\\Local\\Temp\\ipykernel_13380\\259476259.py:5: SettingWithCopyWarning: \n",
      "A value is trying to be set on a copy of a slice from a DataFrame.\n",
      "Try using .loc[row_indexer,col_indexer] = value instead\n",
      "\n",
      "See the caveats in the documentation: https://pandas.pydata.org/pandas-docs/stable/user_guide/indexing.html#returning-a-view-versus-a-copy\n",
      "  dataset[\"mjj\"] = (((input_frame[\"pxj1\"]**2+input_frame[\"pyj1\"]**2+input_frame[\"pzj1\"]**2+input_frame[\"mj1\"]**2)**0.5+(input_frame[\"pxj2\"]**2+input_frame[\"pyj2\"]**2+input_frame[\"pzj2\"]**2+input_frame[\"mj2\"]**2)**0.5)**2-(input_frame[\"pxj1\"]+input_frame[\"pxj2\"])**2-(input_frame[\"pyj1\"]+input_frame[\"pyj2\"])**2-(input_frame[\"pzj1\"]+input_frame[\"pzj2\"])**2)**0.5/1000.\n",
      "C:\\Users\\bolit\\AppData\\Local\\Temp\\ipykernel_13380\\259476259.py:6: SettingWithCopyWarning: \n",
      "A value is trying to be set on a copy of a slice from a DataFrame.\n",
      "Try using .loc[row_indexer,col_indexer] = value instead\n",
      "\n",
      "See the caveats in the documentation: https://pandas.pydata.org/pandas-docs/stable/user_guide/indexing.html#returning-a-view-versus-a-copy\n",
      "  dataset[\"mjTwo\"] = dataset[[\"mj1\", \"mj2\"]].max(axis=1)\n",
      "C:\\Users\\bolit\\AppData\\Local\\Temp\\ipykernel_13380\\259476259.py:7: SettingWithCopyWarning: \n",
      "A value is trying to be set on a copy of a slice from a DataFrame.\n",
      "Try using .loc[row_indexer,col_indexer] = value instead\n",
      "\n",
      "See the caveats in the documentation: https://pandas.pydata.org/pandas-docs/stable/user_guide/indexing.html#returning-a-view-versus-a-copy\n",
      "  dataset[\"mjOne\"] = dataset[[\"mj1\", \"mj2\"]].min(axis=1)\n",
      "C:\\Users\\bolit\\AppData\\Local\\Temp\\ipykernel_13380\\259476259.py:9: SettingWithCopyWarning: \n",
      "A value is trying to be set on a copy of a slice from a DataFrame.\n",
      "Try using .loc[row_indexer,col_indexer] = value instead\n",
      "\n",
      "See the caveats in the documentation: https://pandas.pydata.org/pandas-docs/stable/user_guide/indexing.html#returning-a-view-versus-a-copy\n",
      "  dataset[\"tau1jOne\"] = (dataset[\"mjOne\"] == dataset[\"mj1\"])*dataset[\"tau1j1\"]+(dataset[\"mjOne\"] == dataset[\"mj2\"])*dataset[\"tau1j2\"]\n",
      "C:\\Users\\bolit\\AppData\\Local\\Temp\\ipykernel_13380\\259476259.py:10: SettingWithCopyWarning: \n",
      "A value is trying to be set on a copy of a slice from a DataFrame.\n",
      "Try using .loc[row_indexer,col_indexer] = value instead\n",
      "\n",
      "See the caveats in the documentation: https://pandas.pydata.org/pandas-docs/stable/user_guide/indexing.html#returning-a-view-versus-a-copy\n",
      "  dataset[\"tau2jOne\"] = (dataset[\"mjOne\"] == dataset[\"mj1\"])*dataset[\"tau2j1\"]+(dataset[\"mjOne\"] == dataset[\"mj2\"])*dataset[\"tau2j2\"]\n",
      "C:\\Users\\bolit\\AppData\\Local\\Temp\\ipykernel_13380\\259476259.py:11: SettingWithCopyWarning: \n",
      "A value is trying to be set on a copy of a slice from a DataFrame.\n",
      "Try using .loc[row_indexer,col_indexer] = value instead\n",
      "\n",
      "See the caveats in the documentation: https://pandas.pydata.org/pandas-docs/stable/user_guide/indexing.html#returning-a-view-versus-a-copy\n",
      "  dataset[\"tau1jTwo\"] = (dataset[\"mjTwo\"] == dataset[\"mj1\"])*dataset[\"tau1j1\"]+(dataset[\"mjTwo\"] == dataset[\"mj2\"])*dataset[\"tau1j2\"]\n",
      "C:\\Users\\bolit\\AppData\\Local\\Temp\\ipykernel_13380\\259476259.py:12: SettingWithCopyWarning: \n",
      "A value is trying to be set on a copy of a slice from a DataFrame.\n",
      "Try using .loc[row_indexer,col_indexer] = value instead\n",
      "\n",
      "See the caveats in the documentation: https://pandas.pydata.org/pandas-docs/stable/user_guide/indexing.html#returning-a-view-versus-a-copy\n",
      "  dataset[\"tau2jTwo\"] = (dataset[\"mjTwo\"] == dataset[\"mj1\"])*dataset[\"tau2j1\"]+(dataset[\"mjTwo\"] == dataset[\"mj2\"])*dataset[\"tau2j2\"]\n",
      "C:\\Users\\bolit\\AppData\\Local\\Temp\\ipykernel_13380\\259476259.py:5: SettingWithCopyWarning: \n",
      "A value is trying to be set on a copy of a slice from a DataFrame.\n",
      "Try using .loc[row_indexer,col_indexer] = value instead\n",
      "\n",
      "See the caveats in the documentation: https://pandas.pydata.org/pandas-docs/stable/user_guide/indexing.html#returning-a-view-versus-a-copy\n",
      "  dataset[\"mjj\"] = (((input_frame[\"pxj1\"]**2+input_frame[\"pyj1\"]**2+input_frame[\"pzj1\"]**2+input_frame[\"mj1\"]**2)**0.5+(input_frame[\"pxj2\"]**2+input_frame[\"pyj2\"]**2+input_frame[\"pzj2\"]**2+input_frame[\"mj2\"]**2)**0.5)**2-(input_frame[\"pxj1\"]+input_frame[\"pxj2\"])**2-(input_frame[\"pyj1\"]+input_frame[\"pyj2\"])**2-(input_frame[\"pzj1\"]+input_frame[\"pzj2\"])**2)**0.5/1000.\n",
      "C:\\Users\\bolit\\AppData\\Local\\Temp\\ipykernel_13380\\259476259.py:6: SettingWithCopyWarning: \n",
      "A value is trying to be set on a copy of a slice from a DataFrame.\n",
      "Try using .loc[row_indexer,col_indexer] = value instead\n",
      "\n",
      "See the caveats in the documentation: https://pandas.pydata.org/pandas-docs/stable/user_guide/indexing.html#returning-a-view-versus-a-copy\n",
      "  dataset[\"mjTwo\"] = dataset[[\"mj1\", \"mj2\"]].max(axis=1)\n",
      "C:\\Users\\bolit\\AppData\\Local\\Temp\\ipykernel_13380\\259476259.py:7: SettingWithCopyWarning: \n",
      "A value is trying to be set on a copy of a slice from a DataFrame.\n",
      "Try using .loc[row_indexer,col_indexer] = value instead\n",
      "\n",
      "See the caveats in the documentation: https://pandas.pydata.org/pandas-docs/stable/user_guide/indexing.html#returning-a-view-versus-a-copy\n",
      "  dataset[\"mjOne\"] = dataset[[\"mj1\", \"mj2\"]].min(axis=1)\n",
      "C:\\Users\\bolit\\AppData\\Local\\Temp\\ipykernel_13380\\259476259.py:9: SettingWithCopyWarning: \n",
      "A value is trying to be set on a copy of a slice from a DataFrame.\n",
      "Try using .loc[row_indexer,col_indexer] = value instead\n",
      "\n",
      "See the caveats in the documentation: https://pandas.pydata.org/pandas-docs/stable/user_guide/indexing.html#returning-a-view-versus-a-copy\n",
      "  dataset[\"tau1jOne\"] = (dataset[\"mjOne\"] == dataset[\"mj1\"])*dataset[\"tau1j1\"]+(dataset[\"mjOne\"] == dataset[\"mj2\"])*dataset[\"tau1j2\"]\n",
      "C:\\Users\\bolit\\AppData\\Local\\Temp\\ipykernel_13380\\259476259.py:10: SettingWithCopyWarning: \n",
      "A value is trying to be set on a copy of a slice from a DataFrame.\n",
      "Try using .loc[row_indexer,col_indexer] = value instead\n",
      "\n",
      "See the caveats in the documentation: https://pandas.pydata.org/pandas-docs/stable/user_guide/indexing.html#returning-a-view-versus-a-copy\n",
      "  dataset[\"tau2jOne\"] = (dataset[\"mjOne\"] == dataset[\"mj1\"])*dataset[\"tau2j1\"]+(dataset[\"mjOne\"] == dataset[\"mj2\"])*dataset[\"tau2j2\"]\n",
      "C:\\Users\\bolit\\AppData\\Local\\Temp\\ipykernel_13380\\259476259.py:11: SettingWithCopyWarning: \n",
      "A value is trying to be set on a copy of a slice from a DataFrame.\n",
      "Try using .loc[row_indexer,col_indexer] = value instead\n",
      "\n",
      "See the caveats in the documentation: https://pandas.pydata.org/pandas-docs/stable/user_guide/indexing.html#returning-a-view-versus-a-copy\n",
      "  dataset[\"tau1jTwo\"] = (dataset[\"mjTwo\"] == dataset[\"mj1\"])*dataset[\"tau1j1\"]+(dataset[\"mjTwo\"] == dataset[\"mj2\"])*dataset[\"tau1j2\"]\n",
      "C:\\Users\\bolit\\AppData\\Local\\Temp\\ipykernel_13380\\259476259.py:12: SettingWithCopyWarning: \n",
      "A value is trying to be set on a copy of a slice from a DataFrame.\n",
      "Try using .loc[row_indexer,col_indexer] = value instead\n",
      "\n",
      "See the caveats in the documentation: https://pandas.pydata.org/pandas-docs/stable/user_guide/indexing.html#returning-a-view-versus-a-copy\n",
      "  dataset[\"tau2jTwo\"] = (dataset[\"mjTwo\"] == dataset[\"mj1\"])*dataset[\"tau2j1\"]+(dataset[\"mjTwo\"] == dataset[\"mj2\"])*dataset[\"tau2j2\"]\n"
     ]
    },
    {
     "name": "stderr",
     "output_type": "stream",
     "text": [
      "C:\\Users\\bolit\\AppData\\Local\\Temp\\ipykernel_13380\\259476259.py:13: SettingWithCopyWarning: \n",
      "A value is trying to be set on a copy of a slice from a DataFrame.\n",
      "Try using .loc[row_indexer,col_indexer] = value instead\n",
      "\n",
      "See the caveats in the documentation: https://pandas.pydata.org/pandas-docs/stable/user_guide/indexing.html#returning-a-view-versus-a-copy\n",
      "  dataset[\"tau21jOne\"] = dataset[\"tau2jOne\"]/dataset[\"tau1jOne\"]\n",
      "C:\\Users\\bolit\\AppData\\Local\\Temp\\ipykernel_13380\\259476259.py:25: SettingWithCopyWarning: \n",
      "A value is trying to be set on a copy of a slice from a DataFrame.\n",
      "Try using .loc[row_indexer,col_indexer] = value instead\n",
      "\n",
      "See the caveats in the documentation: https://pandas.pydata.org/pandas-docs/stable/user_guide/indexing.html#returning-a-view-versus-a-copy\n",
      "  dataset[\"mjj\"] = (((input_frame[\"pxj1\"]**2+input_frame[\"pyj1\"]**2+input_frame[\"pzj1\"]**2+input_frame[\"mj1\"]**2)**0.5+(input_frame[\"pxj2\"]**2+input_frame[\"pyj2\"]**2+input_frame[\"pzj2\"]**2+input_frame[\"mj2\"]**2)**0.5)**2-(input_frame[\"pxj1\"]+input_frame[\"pxj2\"])**2-(input_frame[\"pyj1\"]+input_frame[\"pyj2\"])**2-(input_frame[\"pzj1\"]+input_frame[\"pzj2\"])**2)**0.5/1000.\n",
      "C:\\Users\\bolit\\AppData\\Local\\Temp\\ipykernel_13380\\259476259.py:26: SettingWithCopyWarning: \n",
      "A value is trying to be set on a copy of a slice from a DataFrame.\n",
      "Try using .loc[row_indexer,col_indexer] = value instead\n",
      "\n",
      "See the caveats in the documentation: https://pandas.pydata.org/pandas-docs/stable/user_guide/indexing.html#returning-a-view-versus-a-copy\n",
      "  dataset[\"mjTwo\"] = dataset[[\"mj1\", \"mj2\"]].max(axis=1)\n",
      "C:\\Users\\bolit\\AppData\\Local\\Temp\\ipykernel_13380\\259476259.py:27: SettingWithCopyWarning: \n",
      "A value is trying to be set on a copy of a slice from a DataFrame.\n",
      "Try using .loc[row_indexer,col_indexer] = value instead\n",
      "\n",
      "See the caveats in the documentation: https://pandas.pydata.org/pandas-docs/stable/user_guide/indexing.html#returning-a-view-versus-a-copy\n",
      "  dataset[\"mjOne\"] = dataset[[\"mj1\", \"mj2\"]].min(axis=1)\n",
      "C:\\Users\\bolit\\AppData\\Local\\Temp\\ipykernel_13380\\259476259.py:29: SettingWithCopyWarning: \n",
      "A value is trying to be set on a copy of a slice from a DataFrame.\n",
      "Try using .loc[row_indexer,col_indexer] = value instead\n",
      "\n",
      "See the caveats in the documentation: https://pandas.pydata.org/pandas-docs/stable/user_guide/indexing.html#returning-a-view-versus-a-copy\n",
      "  dataset[\"tau2jOne\"] = (dataset[\"mjOne\"] == dataset[\"mj1\"])*dataset[\"tau2j1\"]+(dataset[\"mjOne\"] == dataset[\"mj2\"])*dataset[\"tau2j2\"]\n",
      "C:\\Users\\bolit\\AppData\\Local\\Temp\\ipykernel_13380\\259476259.py:30: SettingWithCopyWarning: \n",
      "A value is trying to be set on a copy of a slice from a DataFrame.\n",
      "Try using .loc[row_indexer,col_indexer] = value instead\n",
      "\n",
      "See the caveats in the documentation: https://pandas.pydata.org/pandas-docs/stable/user_guide/indexing.html#returning-a-view-versus-a-copy\n",
      "  dataset[\"tau2jTwo\"] = (dataset[\"mjTwo\"] == dataset[\"mj1\"])*dataset[\"tau2j1\"]+(dataset[\"mjTwo\"] == dataset[\"mj2\"])*dataset[\"tau2j2\"]\n",
      "C:\\Users\\bolit\\AppData\\Local\\Temp\\ipykernel_13380\\259476259.py:31: SettingWithCopyWarning: \n",
      "A value is trying to be set on a copy of a slice from a DataFrame.\n",
      "Try using .loc[row_indexer,col_indexer] = value instead\n",
      "\n",
      "See the caveats in the documentation: https://pandas.pydata.org/pandas-docs/stable/user_guide/indexing.html#returning-a-view-versus-a-copy\n",
      "  dataset[\"tau3jOne\"] = (dataset[\"mjOne\"] == dataset[\"mj1\"])*dataset[\"tau3j1\"]+(dataset[\"mjOne\"] == dataset[\"mj2\"])*dataset[\"tau3j2\"]\n",
      "C:\\Users\\bolit\\AppData\\Local\\Temp\\ipykernel_13380\\259476259.py:25: SettingWithCopyWarning: \n",
      "A value is trying to be set on a copy of a slice from a DataFrame.\n",
      "Try using .loc[row_indexer,col_indexer] = value instead\n",
      "\n",
      "See the caveats in the documentation: https://pandas.pydata.org/pandas-docs/stable/user_guide/indexing.html#returning-a-view-versus-a-copy\n",
      "  dataset[\"mjj\"] = (((input_frame[\"pxj1\"]**2+input_frame[\"pyj1\"]**2+input_frame[\"pzj1\"]**2+input_frame[\"mj1\"]**2)**0.5+(input_frame[\"pxj2\"]**2+input_frame[\"pyj2\"]**2+input_frame[\"pzj2\"]**2+input_frame[\"mj2\"]**2)**0.5)**2-(input_frame[\"pxj1\"]+input_frame[\"pxj2\"])**2-(input_frame[\"pyj1\"]+input_frame[\"pyj2\"])**2-(input_frame[\"pzj1\"]+input_frame[\"pzj2\"])**2)**0.5/1000.\n",
      "C:\\Users\\bolit\\AppData\\Local\\Temp\\ipykernel_13380\\259476259.py:26: SettingWithCopyWarning: \n",
      "A value is trying to be set on a copy of a slice from a DataFrame.\n",
      "Try using .loc[row_indexer,col_indexer] = value instead\n",
      "\n",
      "See the caveats in the documentation: https://pandas.pydata.org/pandas-docs/stable/user_guide/indexing.html#returning-a-view-versus-a-copy\n",
      "  dataset[\"mjTwo\"] = dataset[[\"mj1\", \"mj2\"]].max(axis=1)\n",
      "C:\\Users\\bolit\\AppData\\Local\\Temp\\ipykernel_13380\\259476259.py:27: SettingWithCopyWarning: \n",
      "A value is trying to be set on a copy of a slice from a DataFrame.\n",
      "Try using .loc[row_indexer,col_indexer] = value instead\n",
      "\n",
      "See the caveats in the documentation: https://pandas.pydata.org/pandas-docs/stable/user_guide/indexing.html#returning-a-view-versus-a-copy\n",
      "  dataset[\"mjOne\"] = dataset[[\"mj1\", \"mj2\"]].min(axis=1)\n",
      "C:\\Users\\bolit\\AppData\\Local\\Temp\\ipykernel_13380\\259476259.py:29: SettingWithCopyWarning: \n",
      "A value is trying to be set on a copy of a slice from a DataFrame.\n",
      "Try using .loc[row_indexer,col_indexer] = value instead\n",
      "\n",
      "See the caveats in the documentation: https://pandas.pydata.org/pandas-docs/stable/user_guide/indexing.html#returning-a-view-versus-a-copy\n",
      "  dataset[\"tau2jOne\"] = (dataset[\"mjOne\"] == dataset[\"mj1\"])*dataset[\"tau2j1\"]+(dataset[\"mjOne\"] == dataset[\"mj2\"])*dataset[\"tau2j2\"]\n",
      "C:\\Users\\bolit\\AppData\\Local\\Temp\\ipykernel_13380\\259476259.py:30: SettingWithCopyWarning: \n",
      "A value is trying to be set on a copy of a slice from a DataFrame.\n",
      "Try using .loc[row_indexer,col_indexer] = value instead\n",
      "\n",
      "See the caveats in the documentation: https://pandas.pydata.org/pandas-docs/stable/user_guide/indexing.html#returning-a-view-versus-a-copy\n",
      "  dataset[\"tau2jTwo\"] = (dataset[\"mjTwo\"] == dataset[\"mj1\"])*dataset[\"tau2j1\"]+(dataset[\"mjTwo\"] == dataset[\"mj2\"])*dataset[\"tau2j2\"]\n",
      "C:\\Users\\bolit\\AppData\\Local\\Temp\\ipykernel_13380\\259476259.py:25: SettingWithCopyWarning: \n",
      "A value is trying to be set on a copy of a slice from a DataFrame.\n",
      "Try using .loc[row_indexer,col_indexer] = value instead\n",
      "\n",
      "See the caveats in the documentation: https://pandas.pydata.org/pandas-docs/stable/user_guide/indexing.html#returning-a-view-versus-a-copy\n",
      "  dataset[\"mjj\"] = (((input_frame[\"pxj1\"]**2+input_frame[\"pyj1\"]**2+input_frame[\"pzj1\"]**2+input_frame[\"mj1\"]**2)**0.5+(input_frame[\"pxj2\"]**2+input_frame[\"pyj2\"]**2+input_frame[\"pzj2\"]**2+input_frame[\"mj2\"]**2)**0.5)**2-(input_frame[\"pxj1\"]+input_frame[\"pxj2\"])**2-(input_frame[\"pyj1\"]+input_frame[\"pyj2\"])**2-(input_frame[\"pzj1\"]+input_frame[\"pzj2\"])**2)**0.5/1000.\n",
      "C:\\Users\\bolit\\AppData\\Local\\Temp\\ipykernel_13380\\259476259.py:26: SettingWithCopyWarning: \n",
      "A value is trying to be set on a copy of a slice from a DataFrame.\n",
      "Try using .loc[row_indexer,col_indexer] = value instead\n",
      "\n",
      "See the caveats in the documentation: https://pandas.pydata.org/pandas-docs/stable/user_guide/indexing.html#returning-a-view-versus-a-copy\n",
      "  dataset[\"mjTwo\"] = dataset[[\"mj1\", \"mj2\"]].max(axis=1)\n",
      "C:\\Users\\bolit\\AppData\\Local\\Temp\\ipykernel_13380\\259476259.py:27: SettingWithCopyWarning: \n",
      "A value is trying to be set on a copy of a slice from a DataFrame.\n",
      "Try using .loc[row_indexer,col_indexer] = value instead\n",
      "\n",
      "See the caveats in the documentation: https://pandas.pydata.org/pandas-docs/stable/user_guide/indexing.html#returning-a-view-versus-a-copy\n",
      "  dataset[\"mjOne\"] = dataset[[\"mj1\", \"mj2\"]].min(axis=1)\n",
      "C:\\Users\\bolit\\AppData\\Local\\Temp\\ipykernel_13380\\259476259.py:29: SettingWithCopyWarning: \n",
      "A value is trying to be set on a copy of a slice from a DataFrame.\n",
      "Try using .loc[row_indexer,col_indexer] = value instead\n",
      "\n",
      "See the caveats in the documentation: https://pandas.pydata.org/pandas-docs/stable/user_guide/indexing.html#returning-a-view-versus-a-copy\n",
      "  dataset[\"tau2jOne\"] = (dataset[\"mjOne\"] == dataset[\"mj1\"])*dataset[\"tau2j1\"]+(dataset[\"mjOne\"] == dataset[\"mj2\"])*dataset[\"tau2j2\"]\n",
      "C:\\Users\\bolit\\AppData\\Local\\Temp\\ipykernel_13380\\259476259.py:30: SettingWithCopyWarning: \n",
      "A value is trying to be set on a copy of a slice from a DataFrame.\n",
      "Try using .loc[row_indexer,col_indexer] = value instead\n",
      "\n",
      "See the caveats in the documentation: https://pandas.pydata.org/pandas-docs/stable/user_guide/indexing.html#returning-a-view-versus-a-copy\n",
      "  dataset[\"tau2jTwo\"] = (dataset[\"mjTwo\"] == dataset[\"mj1\"])*dataset[\"tau2j1\"]+(dataset[\"mjTwo\"] == dataset[\"mj2\"])*dataset[\"tau2j2\"]\n",
      "C:\\Users\\bolit\\AppData\\Local\\Temp\\ipykernel_13380\\259476259.py:31: SettingWithCopyWarning: \n",
      "A value is trying to be set on a copy of a slice from a DataFrame.\n",
      "Try using .loc[row_indexer,col_indexer] = value instead\n",
      "\n",
      "See the caveats in the documentation: https://pandas.pydata.org/pandas-docs/stable/user_guide/indexing.html#returning-a-view-versus-a-copy\n",
      "  dataset[\"tau3jOne\"] = (dataset[\"mjOne\"] == dataset[\"mj1\"])*dataset[\"tau3j1\"]+(dataset[\"mjOne\"] == dataset[\"mj2\"])*dataset[\"tau3j2\"]\n"
     ]
    }
   ],
   "source": [
    "dataset_bg=load_dataT21(features_bg)\n",
    "dataset_bg2=load_dataT21(features_bg2)\n",
    "dataset_sig=load_dataT21(features_sig)\n",
    "\n",
    "dataset_bgT32=load_dataT32(features_bg)\n",
    "dataset_bg2T32=load_dataT32(features_bg2)\n",
    "dataset_sigT32=load_dataT32(features_sig)"
   ]
  },
  {
   "cell_type": "code",
   "execution_count": 18,
   "metadata": {},
   "outputs": [
    {
     "name": "stderr",
     "output_type": "stream",
     "text": [
      "C:\\Users\\bolit\\AppData\\Local\\Temp\\ipykernel_13380\\259476259.py:47: SettingWithCopyWarning: \n",
      "A value is trying to be set on a copy of a slice from a DataFrame.\n",
      "Try using .loc[row_indexer,col_indexer] = value instead\n",
      "\n",
      "See the caveats in the documentation: https://pandas.pydata.org/pandas-docs/stable/user_guide/indexing.html#returning-a-view-versus-a-copy\n",
      "  dataset[\"mjj\"] = (((input_frame[\"pxj1\"]**2+input_frame[\"pyj1\"]**2+input_frame[\"pzj1\"]**2+input_frame[\"mj1\"]**2)**0.5+(input_frame[\"pxj2\"]**2+input_frame[\"pyj2\"]**2+input_frame[\"pzj2\"]**2+input_frame[\"mj2\"]**2)**0.5)**2-(input_frame[\"pxj1\"]+input_frame[\"pxj2\"])**2-(input_frame[\"pyj1\"]+input_frame[\"pyj2\"])**2-(input_frame[\"pzj1\"]+input_frame[\"pzj2\"])**2)**0.5/1000.\n",
      "C:\\Users\\bolit\\AppData\\Local\\Temp\\ipykernel_13380\\259476259.py:50: SettingWithCopyWarning: \n",
      "A value is trying to be set on a copy of a slice from a DataFrame.\n",
      "Try using .loc[row_indexer,col_indexer] = value instead\n",
      "\n",
      "See the caveats in the documentation: https://pandas.pydata.org/pandas-docs/stable/user_guide/indexing.html#returning-a-view-versus-a-copy\n",
      "  dataset[\"mjTwo\"] = dataset[[\"mj1\", \"mj2\"]].max(axis=1)\n",
      "C:\\Users\\bolit\\AppData\\Local\\Temp\\ipykernel_13380\\259476259.py:51: SettingWithCopyWarning: \n",
      "A value is trying to be set on a copy of a slice from a DataFrame.\n",
      "Try using .loc[row_indexer,col_indexer] = value instead\n",
      "\n",
      "See the caveats in the documentation: https://pandas.pydata.org/pandas-docs/stable/user_guide/indexing.html#returning-a-view-versus-a-copy\n",
      "  dataset[\"mjOne\"] = dataset[[\"mj1\", \"mj2\"]].min(axis=1)\n",
      "C:\\Users\\bolit\\AppData\\Local\\Temp\\ipykernel_13380\\259476259.py:53: SettingWithCopyWarning: \n",
      "A value is trying to be set on a copy of a slice from a DataFrame.\n",
      "Try using .loc[row_indexer,col_indexer] = value instead\n",
      "\n",
      "See the caveats in the documentation: https://pandas.pydata.org/pandas-docs/stable/user_guide/indexing.html#returning-a-view-versus-a-copy\n",
      "  dataset[\"tau1jOne\"] = (dataset[\"mjOne\"] == dataset[\"mj1\"])*dataset[\"tau1j1\"]+(dataset[\"mjOne\"] == dataset[\"mj2\"])*dataset[\"tau1j2\"]\n",
      "C:\\Users\\bolit\\AppData\\Local\\Temp\\ipykernel_13380\\259476259.py:54: SettingWithCopyWarning: \n",
      "A value is trying to be set on a copy of a slice from a DataFrame.\n",
      "Try using .loc[row_indexer,col_indexer] = value instead\n",
      "\n",
      "See the caveats in the documentation: https://pandas.pydata.org/pandas-docs/stable/user_guide/indexing.html#returning-a-view-versus-a-copy\n",
      "  dataset[\"tau2jOne\"] = (dataset[\"mjOne\"] == dataset[\"mj1\"])*dataset[\"tau2j1\"]+(dataset[\"mjOne\"] == dataset[\"mj2\"])*dataset[\"tau2j2\"]\n",
      "C:\\Users\\bolit\\AppData\\Local\\Temp\\ipykernel_13380\\259476259.py:55: SettingWithCopyWarning: \n",
      "A value is trying to be set on a copy of a slice from a DataFrame.\n",
      "Try using .loc[row_indexer,col_indexer] = value instead\n",
      "\n",
      "See the caveats in the documentation: https://pandas.pydata.org/pandas-docs/stable/user_guide/indexing.html#returning-a-view-versus-a-copy\n",
      "  dataset[\"tau1jTwo\"] = (dataset[\"mjTwo\"] == dataset[\"mj1\"])*dataset[\"tau1j1\"]+(dataset[\"mjTwo\"] == dataset[\"mj2\"])*dataset[\"tau1j2\"]\n",
      "C:\\Users\\bolit\\AppData\\Local\\Temp\\ipykernel_13380\\259476259.py:47: SettingWithCopyWarning: \n",
      "A value is trying to be set on a copy of a slice from a DataFrame.\n",
      "Try using .loc[row_indexer,col_indexer] = value instead\n",
      "\n",
      "See the caveats in the documentation: https://pandas.pydata.org/pandas-docs/stable/user_guide/indexing.html#returning-a-view-versus-a-copy\n",
      "  dataset[\"mjj\"] = (((input_frame[\"pxj1\"]**2+input_frame[\"pyj1\"]**2+input_frame[\"pzj1\"]**2+input_frame[\"mj1\"]**2)**0.5+(input_frame[\"pxj2\"]**2+input_frame[\"pyj2\"]**2+input_frame[\"pzj2\"]**2+input_frame[\"mj2\"]**2)**0.5)**2-(input_frame[\"pxj1\"]+input_frame[\"pxj2\"])**2-(input_frame[\"pyj1\"]+input_frame[\"pyj2\"])**2-(input_frame[\"pzj1\"]+input_frame[\"pzj2\"])**2)**0.5/1000.\n",
      "C:\\Users\\bolit\\AppData\\Local\\Temp\\ipykernel_13380\\259476259.py:50: SettingWithCopyWarning: \n",
      "A value is trying to be set on a copy of a slice from a DataFrame.\n",
      "Try using .loc[row_indexer,col_indexer] = value instead\n",
      "\n",
      "See the caveats in the documentation: https://pandas.pydata.org/pandas-docs/stable/user_guide/indexing.html#returning-a-view-versus-a-copy\n",
      "  dataset[\"mjTwo\"] = dataset[[\"mj1\", \"mj2\"]].max(axis=1)\n",
      "C:\\Users\\bolit\\AppData\\Local\\Temp\\ipykernel_13380\\259476259.py:51: SettingWithCopyWarning: \n",
      "A value is trying to be set on a copy of a slice from a DataFrame.\n",
      "Try using .loc[row_indexer,col_indexer] = value instead\n",
      "\n",
      "See the caveats in the documentation: https://pandas.pydata.org/pandas-docs/stable/user_guide/indexing.html#returning-a-view-versus-a-copy\n",
      "  dataset[\"mjOne\"] = dataset[[\"mj1\", \"mj2\"]].min(axis=1)\n",
      "C:\\Users\\bolit\\AppData\\Local\\Temp\\ipykernel_13380\\259476259.py:53: SettingWithCopyWarning: \n",
      "A value is trying to be set on a copy of a slice from a DataFrame.\n",
      "Try using .loc[row_indexer,col_indexer] = value instead\n",
      "\n",
      "See the caveats in the documentation: https://pandas.pydata.org/pandas-docs/stable/user_guide/indexing.html#returning-a-view-versus-a-copy\n",
      "  dataset[\"tau1jOne\"] = (dataset[\"mjOne\"] == dataset[\"mj1\"])*dataset[\"tau1j1\"]+(dataset[\"mjOne\"] == dataset[\"mj2\"])*dataset[\"tau1j2\"]\n",
      "C:\\Users\\bolit\\AppData\\Local\\Temp\\ipykernel_13380\\259476259.py:54: SettingWithCopyWarning: \n",
      "A value is trying to be set on a copy of a slice from a DataFrame.\n",
      "Try using .loc[row_indexer,col_indexer] = value instead\n",
      "\n",
      "See the caveats in the documentation: https://pandas.pydata.org/pandas-docs/stable/user_guide/indexing.html#returning-a-view-versus-a-copy\n",
      "  dataset[\"tau2jOne\"] = (dataset[\"mjOne\"] == dataset[\"mj1\"])*dataset[\"tau2j1\"]+(dataset[\"mjOne\"] == dataset[\"mj2\"])*dataset[\"tau2j2\"]\n",
      "C:\\Users\\bolit\\AppData\\Local\\Temp\\ipykernel_13380\\259476259.py:47: SettingWithCopyWarning: \n",
      "A value is trying to be set on a copy of a slice from a DataFrame.\n",
      "Try using .loc[row_indexer,col_indexer] = value instead\n",
      "\n",
      "See the caveats in the documentation: https://pandas.pydata.org/pandas-docs/stable/user_guide/indexing.html#returning-a-view-versus-a-copy\n",
      "  dataset[\"mjj\"] = (((input_frame[\"pxj1\"]**2+input_frame[\"pyj1\"]**2+input_frame[\"pzj1\"]**2+input_frame[\"mj1\"]**2)**0.5+(input_frame[\"pxj2\"]**2+input_frame[\"pyj2\"]**2+input_frame[\"pzj2\"]**2+input_frame[\"mj2\"]**2)**0.5)**2-(input_frame[\"pxj1\"]+input_frame[\"pxj2\"])**2-(input_frame[\"pyj1\"]+input_frame[\"pyj2\"])**2-(input_frame[\"pzj1\"]+input_frame[\"pzj2\"])**2)**0.5/1000.\n",
      "C:\\Users\\bolit\\AppData\\Local\\Temp\\ipykernel_13380\\259476259.py:50: SettingWithCopyWarning: \n",
      "A value is trying to be set on a copy of a slice from a DataFrame.\n",
      "Try using .loc[row_indexer,col_indexer] = value instead\n",
      "\n",
      "See the caveats in the documentation: https://pandas.pydata.org/pandas-docs/stable/user_guide/indexing.html#returning-a-view-versus-a-copy\n",
      "  dataset[\"mjTwo\"] = dataset[[\"mj1\", \"mj2\"]].max(axis=1)\n",
      "C:\\Users\\bolit\\AppData\\Local\\Temp\\ipykernel_13380\\259476259.py:51: SettingWithCopyWarning: \n",
      "A value is trying to be set on a copy of a slice from a DataFrame.\n",
      "Try using .loc[row_indexer,col_indexer] = value instead\n",
      "\n",
      "See the caveats in the documentation: https://pandas.pydata.org/pandas-docs/stable/user_guide/indexing.html#returning-a-view-versus-a-copy\n",
      "  dataset[\"mjOne\"] = dataset[[\"mj1\", \"mj2\"]].min(axis=1)\n",
      "C:\\Users\\bolit\\AppData\\Local\\Temp\\ipykernel_13380\\259476259.py:53: SettingWithCopyWarning: \n",
      "A value is trying to be set on a copy of a slice from a DataFrame.\n",
      "Try using .loc[row_indexer,col_indexer] = value instead\n",
      "\n",
      "See the caveats in the documentation: https://pandas.pydata.org/pandas-docs/stable/user_guide/indexing.html#returning-a-view-versus-a-copy\n",
      "  dataset[\"tau1jOne\"] = (dataset[\"mjOne\"] == dataset[\"mj1\"])*dataset[\"tau1j1\"]+(dataset[\"mjOne\"] == dataset[\"mj2\"])*dataset[\"tau1j2\"]\n",
      "C:\\Users\\bolit\\AppData\\Local\\Temp\\ipykernel_13380\\259476259.py:54: SettingWithCopyWarning: \n",
      "A value is trying to be set on a copy of a slice from a DataFrame.\n",
      "Try using .loc[row_indexer,col_indexer] = value instead\n",
      "\n",
      "See the caveats in the documentation: https://pandas.pydata.org/pandas-docs/stable/user_guide/indexing.html#returning-a-view-versus-a-copy\n",
      "  dataset[\"tau2jOne\"] = (dataset[\"mjOne\"] == dataset[\"mj1\"])*dataset[\"tau2j1\"]+(dataset[\"mjOne\"] == dataset[\"mj2\"])*dataset[\"tau2j2\"]\n",
      "C:\\Users\\bolit\\AppData\\Local\\Temp\\ipykernel_13380\\259476259.py:55: SettingWithCopyWarning: \n",
      "A value is trying to be set on a copy of a slice from a DataFrame.\n",
      "Try using .loc[row_indexer,col_indexer] = value instead\n",
      "\n",
      "See the caveats in the documentation: https://pandas.pydata.org/pandas-docs/stable/user_guide/indexing.html#returning-a-view-versus-a-copy\n",
      "  dataset[\"tau1jTwo\"] = (dataset[\"mjTwo\"] == dataset[\"mj1\"])*dataset[\"tau1j1\"]+(dataset[\"mjTwo\"] == dataset[\"mj2\"])*dataset[\"tau1j2\"]\n"
     ]
    }
   ],
   "source": [
    "dataset_bg_more=load_data_more(features_bg)\n",
    "dataset_bg2_more=load_data_more(features_bg2)\n",
    "dataset_sig_more=load_data_more(features_sig)"
   ]
  },
  {
   "cell_type": "code",
   "execution_count": 19,
   "metadata": {},
   "outputs": [
    {
     "data": {
      "text/plain": [
       "array([[3.30721939, 0.36961794, 0.52971994, 0.58331666, 0.26323715],\n",
       "       [3.1076206 , 0.33376126, 0.67729487, 0.78773201, 0.51908614],\n",
       "       [3.00489527, 0.37264503, 0.30656472, 0.78958448, 0.91180871],\n",
       "       ...,\n",
       "       [4.283545  , 0.4848261 , 0.7679949 , 0.71013539, 0.83904146],\n",
       "       [2.78405802, 0.3835928 , 0.53700979, 0.6447025 , 0.22796556],\n",
       "       [2.92645683, 0.34226608, 0.39324028, 0.63616232, 0.91674757]])"
      ]
     },
     "execution_count": 19,
     "metadata": {},
     "output_type": "execute_result"
    }
   ],
   "source": [
    "dataset_bg"
   ]
  },
  {
   "cell_type": "code",
   "execution_count": 20,
   "metadata": {},
   "outputs": [
    {
     "name": "stdout",
     "output_type": "stream",
     "text": [
      "[False  True  True ...  True  True  True]\n",
      "     # signal events:  1000\n",
      " signal significance:  4.059677443835412\n",
      "           s/b ratio:  0.016480980947986026\n"
     ]
    }
   ],
   "source": [
    "from sklearn.model_selection import train_test_split\n",
    "\n",
    "SR_low = 3.3\n",
    "SR_high = 3.7\n",
    "test_size = 0.5\n",
    "EPOCHS=20\n",
    "batch_size = 200\n",
    "SB_width = 0.3\n",
    "\n",
    "def sr_crit(d):\n",
    "    return (d[:,0] < SR_high) & (d[:,0] >= SR_low)\n",
    "\n",
    "\n",
    "\n",
    "bg_srsb, bg2_srsb, sig_srsb = sr_crit(dataset_bg_more), sr_crit(dataset_bg2_more), sr_crit(dataset_sig_more)\n",
    "\n",
    "SR_background_data = dataset_bg[bg_srsb]\n",
    "SB_background_data = dataset_bg[~bg_srsb]\n",
    "print(~bg_srsb)\n",
    "\n",
    "SR_background_sim = dataset_bg2[bg2_srsb]\n",
    "SB_background_sim = dataset_bg2[~bg2_srsb]\n",
    "\n",
    "SR_signal = dataset_sig[sig_srsb]\n",
    "SB_signal = dataset_sig[~sig_srsb]\n",
    "\n",
    "N_inputs = len(SR_background_data.T) - 1\n",
    "\n",
    "\n",
    "((SR_background_data, SR_background_data_fortest),\n",
    " (SR_background_sim, SR_background_sim_fortest),\n",
    " (SB_background_data, SB_background_data_fortest),\n",
    " (SB_background_sim, SB_background_sim_fortest),\n",
    " ) = [train_test_split(arr, test_size=test_size) for arr in [\n",
    "    SR_background_data, SR_background_sim,\n",
    "    SB_background_data, SB_background_sim,\n",
    "]]\n",
    "\n",
    "mn,mx = np.percentile(np.concatenate([SB_background_data, SB_background_sim, SR_background_data, \n",
    "                                      SR_background_sim]), [1,99], axis=0)\n",
    "\n",
    "def norm_func(d):\n",
    "    return (d - mn)/(mx - mn)\n",
    "\n",
    "Nsig = 1000\n",
    "Nsig_SB = int(np.round(len(SB_signal)*Nsig/len(SR_signal)))\n",
    "\n",
    "fmt = '{:>20}:  {}'\n",
    "print(fmt.format('# signal events', Nsig))\n",
    "print(fmt.format('signal significance', len(SR_signal[0:Nsig])/len(SR_background_data)**0.5))\n",
    "print(fmt.format('s/b ratio', len(SR_signal[0:Nsig])/len(SR_background_data)))\n",
    "\n",
    "n_injections = 20\n",
    "SR_signals_to_inject = [None] * n_injections\n",
    "SB_signals_to_inject = [None] * n_injections\n",
    "signals_to_test = [None] * n_injections\n",
    "\n",
    "for i in range(n_injections):\n",
    "    idx = np.isin(range(len(SR_signal)), np.random.choice(SR_signal.shape[0], size=Nsig, replace=False))\n",
    "    SR_signals_to_inject[i] = SR_signal[idx, :]\n",
    "    signals_to_test[i] = SR_signal[~idx, :]\n",
    "    \n",
    "    idx = np.isin(range(len(SB_signal)), np.random.choice(SB_signal.shape[0], size=Nsig_SB, replace=False))\n",
    "    SB_signals_to_inject[i] = SB_signal[idx, :]"
   ]
  },
  {
   "cell_type": "code",
   "execution_count": null,
   "metadata": {},
   "outputs": [],
   "source": []
  },
  {
   "cell_type": "code",
   "execution_count": 21,
   "metadata": {},
   "outputs": [
    {
     "name": "stderr",
     "output_type": "stream",
     "text": [
      "\r",
      "  0%|                                                                                           | 0/20 [00:00<?, ?it/s]"
     ]
    },
    {
     "name": "stdout",
     "output_type": "stream",
     "text": [
      "675/675 [==============================] - 1s 1ms/step\n"
     ]
    },
    {
     "name": "stderr",
     "output_type": "stream",
     "text": [
      "C:\\Users\\bolit\\AppData\\Local\\Temp\\ipykernel_13380\\2394776141.py:48: FutureWarning: The frame.append method is deprecated and will be removed from pandas in a future version. Use pandas.concat instead.\n",
      "  cwola_rocs = cwola_rocs.append({'fpr': fpr_cwola, 'tpr': tpr_cwola}, ignore_index=True)\n",
      "\r",
      "  5%|████▏                                                                              | 1/20 [01:24<26:51, 84.82s/it]"
     ]
    },
    {
     "name": "stdout",
     "output_type": "stream",
     "text": [
      "675/675 [==============================] - 1s 1ms/step\n"
     ]
    },
    {
     "name": "stderr",
     "output_type": "stream",
     "text": [
      "C:\\Users\\bolit\\AppData\\Local\\Temp\\ipykernel_13380\\2394776141.py:48: FutureWarning: The frame.append method is deprecated and will be removed from pandas in a future version. Use pandas.concat instead.\n",
      "  cwola_rocs = cwola_rocs.append({'fpr': fpr_cwola, 'tpr': tpr_cwola}, ignore_index=True)\n",
      "\r",
      " 10%|████████▎                                                                          | 2/20 [02:52<25:53, 86.29s/it]"
     ]
    },
    {
     "name": "stdout",
     "output_type": "stream",
     "text": [
      "675/675 [==============================] - 1s 1ms/step\n"
     ]
    },
    {
     "name": "stderr",
     "output_type": "stream",
     "text": [
      "C:\\Users\\bolit\\AppData\\Local\\Temp\\ipykernel_13380\\2394776141.py:48: FutureWarning: The frame.append method is deprecated and will be removed from pandas in a future version. Use pandas.concat instead.\n",
      "  cwola_rocs = cwola_rocs.append({'fpr': fpr_cwola, 'tpr': tpr_cwola}, ignore_index=True)\n",
      "\r",
      " 15%|████████████▍                                                                      | 3/20 [04:17<24:22, 86.03s/it]"
     ]
    },
    {
     "name": "stdout",
     "output_type": "stream",
     "text": [
      "675/675 [==============================] - 1s 1ms/step\n"
     ]
    },
    {
     "name": "stderr",
     "output_type": "stream",
     "text": [
      "C:\\Users\\bolit\\AppData\\Local\\Temp\\ipykernel_13380\\2394776141.py:48: FutureWarning: The frame.append method is deprecated and will be removed from pandas in a future version. Use pandas.concat instead.\n",
      "  cwola_rocs = cwola_rocs.append({'fpr': fpr_cwola, 'tpr': tpr_cwola}, ignore_index=True)\n",
      "\r",
      " 20%|████████████████▌                                                                  | 4/20 [05:46<23:14, 87.16s/it]"
     ]
    },
    {
     "name": "stdout",
     "output_type": "stream",
     "text": [
      "675/675 [==============================] - 1s 1ms/step\n"
     ]
    },
    {
     "name": "stderr",
     "output_type": "stream",
     "text": [
      "C:\\Users\\bolit\\AppData\\Local\\Temp\\ipykernel_13380\\2394776141.py:48: FutureWarning: The frame.append method is deprecated and will be removed from pandas in a future version. Use pandas.concat instead.\n",
      "  cwola_rocs = cwola_rocs.append({'fpr': fpr_cwola, 'tpr': tpr_cwola}, ignore_index=True)\n",
      "\r",
      " 25%|████████████████████▊                                                              | 5/20 [07:12<21:41, 86.80s/it]"
     ]
    },
    {
     "name": "stdout",
     "output_type": "stream",
     "text": [
      "675/675 [==============================] - 1s 1ms/step\n"
     ]
    },
    {
     "name": "stderr",
     "output_type": "stream",
     "text": [
      "C:\\Users\\bolit\\AppData\\Local\\Temp\\ipykernel_13380\\2394776141.py:48: FutureWarning: The frame.append method is deprecated and will be removed from pandas in a future version. Use pandas.concat instead.\n",
      "  cwola_rocs = cwola_rocs.append({'fpr': fpr_cwola, 'tpr': tpr_cwola}, ignore_index=True)\n",
      "\r",
      " 30%|████████████████████████▉                                                          | 6/20 [08:40<20:17, 86.93s/it]"
     ]
    },
    {
     "name": "stdout",
     "output_type": "stream",
     "text": [
      "675/675 [==============================] - 1s 1ms/step\n"
     ]
    },
    {
     "name": "stderr",
     "output_type": "stream",
     "text": [
      "C:\\Users\\bolit\\AppData\\Local\\Temp\\ipykernel_13380\\2394776141.py:48: FutureWarning: The frame.append method is deprecated and will be removed from pandas in a future version. Use pandas.concat instead.\n",
      "  cwola_rocs = cwola_rocs.append({'fpr': fpr_cwola, 'tpr': tpr_cwola}, ignore_index=True)\n",
      "\r",
      " 35%|█████████████████████████████                                                      | 7/20 [10:06<18:48, 86.83s/it]"
     ]
    },
    {
     "name": "stdout",
     "output_type": "stream",
     "text": [
      "675/675 [==============================] - 1s 1ms/step\n"
     ]
    },
    {
     "name": "stderr",
     "output_type": "stream",
     "text": [
      "C:\\Users\\bolit\\AppData\\Local\\Temp\\ipykernel_13380\\2394776141.py:48: FutureWarning: The frame.append method is deprecated and will be removed from pandas in a future version. Use pandas.concat instead.\n",
      "  cwola_rocs = cwola_rocs.append({'fpr': fpr_cwola, 'tpr': tpr_cwola}, ignore_index=True)\n",
      "\r",
      " 40%|█████████████████████████████████▏                                                 | 8/20 [11:33<17:23, 86.97s/it]"
     ]
    },
    {
     "name": "stdout",
     "output_type": "stream",
     "text": [
      "675/675 [==============================] - 1s 1ms/step\n"
     ]
    },
    {
     "name": "stderr",
     "output_type": "stream",
     "text": [
      "C:\\Users\\bolit\\AppData\\Local\\Temp\\ipykernel_13380\\2394776141.py:48: FutureWarning: The frame.append method is deprecated and will be removed from pandas in a future version. Use pandas.concat instead.\n",
      "  cwola_rocs = cwola_rocs.append({'fpr': fpr_cwola, 'tpr': tpr_cwola}, ignore_index=True)\n",
      "\r",
      " 45%|█████████████████████████████████████▎                                             | 9/20 [13:05<16:13, 88.46s/it]"
     ]
    },
    {
     "name": "stdout",
     "output_type": "stream",
     "text": [
      "675/675 [==============================] - 1s 1ms/step\n"
     ]
    },
    {
     "name": "stderr",
     "output_type": "stream",
     "text": [
      "C:\\Users\\bolit\\AppData\\Local\\Temp\\ipykernel_13380\\2394776141.py:48: FutureWarning: The frame.append method is deprecated and will be removed from pandas in a future version. Use pandas.concat instead.\n",
      "  cwola_rocs = cwola_rocs.append({'fpr': fpr_cwola, 'tpr': tpr_cwola}, ignore_index=True)\n",
      "\r",
      " 50%|█████████████████████████████████████████                                         | 10/20 [14:39<14:59, 89.98s/it]"
     ]
    },
    {
     "name": "stdout",
     "output_type": "stream",
     "text": [
      "675/675 [==============================] - 1s 1ms/step\n"
     ]
    },
    {
     "name": "stderr",
     "output_type": "stream",
     "text": [
      "C:\\Users\\bolit\\AppData\\Local\\Temp\\ipykernel_13380\\2394776141.py:48: FutureWarning: The frame.append method is deprecated and will be removed from pandas in a future version. Use pandas.concat instead.\n",
      "  cwola_rocs = cwola_rocs.append({'fpr': fpr_cwola, 'tpr': tpr_cwola}, ignore_index=True)\n",
      "\r",
      " 55%|█████████████████████████████████████████████                                     | 11/20 [16:22<14:07, 94.15s/it]"
     ]
    },
    {
     "name": "stdout",
     "output_type": "stream",
     "text": [
      "675/675 [==============================] - 1s 1ms/step\n"
     ]
    },
    {
     "name": "stderr",
     "output_type": "stream",
     "text": [
      "C:\\Users\\bolit\\AppData\\Local\\Temp\\ipykernel_13380\\2394776141.py:48: FutureWarning: The frame.append method is deprecated and will be removed from pandas in a future version. Use pandas.concat instead.\n",
      "  cwola_rocs = cwola_rocs.append({'fpr': fpr_cwola, 'tpr': tpr_cwola}, ignore_index=True)\n",
      "\r",
      " 60%|█████████████████████████████████████████████████▏                                | 12/20 [18:02<12:46, 95.76s/it]"
     ]
    },
    {
     "name": "stdout",
     "output_type": "stream",
     "text": [
      "675/675 [==============================] - 1s 1ms/step\n"
     ]
    },
    {
     "name": "stderr",
     "output_type": "stream",
     "text": [
      "C:\\Users\\bolit\\AppData\\Local\\Temp\\ipykernel_13380\\2394776141.py:48: FutureWarning: The frame.append method is deprecated and will be removed from pandas in a future version. Use pandas.concat instead.\n",
      "  cwola_rocs = cwola_rocs.append({'fpr': fpr_cwola, 'tpr': tpr_cwola}, ignore_index=True)\n",
      "\r",
      " 65%|█████████████████████████████████████████████████████▎                            | 13/20 [19:37<11:09, 95.61s/it]"
     ]
    },
    {
     "name": "stdout",
     "output_type": "stream",
     "text": [
      "675/675 [==============================] - 1s 1ms/step\n"
     ]
    },
    {
     "name": "stderr",
     "output_type": "stream",
     "text": [
      "C:\\Users\\bolit\\AppData\\Local\\Temp\\ipykernel_13380\\2394776141.py:48: FutureWarning: The frame.append method is deprecated and will be removed from pandas in a future version. Use pandas.concat instead.\n",
      "  cwola_rocs = cwola_rocs.append({'fpr': fpr_cwola, 'tpr': tpr_cwola}, ignore_index=True)\n",
      "\r",
      " 70%|█████████████████████████████████████████████████████████▍                        | 14/20 [21:08<09:26, 94.34s/it]"
     ]
    },
    {
     "name": "stdout",
     "output_type": "stream",
     "text": [
      "675/675 [==============================] - 1s 1ms/step\n"
     ]
    },
    {
     "name": "stderr",
     "output_type": "stream",
     "text": [
      "C:\\Users\\bolit\\AppData\\Local\\Temp\\ipykernel_13380\\2394776141.py:48: FutureWarning: The frame.append method is deprecated and will be removed from pandas in a future version. Use pandas.concat instead.\n",
      "  cwola_rocs = cwola_rocs.append({'fpr': fpr_cwola, 'tpr': tpr_cwola}, ignore_index=True)\n",
      "\r",
      " 75%|█████████████████████████████████████████████████████████████▌                    | 15/20 [22:41<07:49, 93.95s/it]"
     ]
    },
    {
     "name": "stdout",
     "output_type": "stream",
     "text": [
      "675/675 [==============================] - 1s 1ms/step\n"
     ]
    },
    {
     "name": "stderr",
     "output_type": "stream",
     "text": [
      "C:\\Users\\bolit\\AppData\\Local\\Temp\\ipykernel_13380\\2394776141.py:48: FutureWarning: The frame.append method is deprecated and will be removed from pandas in a future version. Use pandas.concat instead.\n",
      "  cwola_rocs = cwola_rocs.append({'fpr': fpr_cwola, 'tpr': tpr_cwola}, ignore_index=True)\n",
      "\r",
      " 80%|█████████████████████████████████████████████████████████████████▌                | 16/20 [24:14<06:14, 93.59s/it]"
     ]
    },
    {
     "name": "stdout",
     "output_type": "stream",
     "text": [
      "675/675 [==============================] - 1s 1ms/step\n"
     ]
    },
    {
     "name": "stderr",
     "output_type": "stream",
     "text": [
      "C:\\Users\\bolit\\AppData\\Local\\Temp\\ipykernel_13380\\2394776141.py:48: FutureWarning: The frame.append method is deprecated and will be removed from pandas in a future version. Use pandas.concat instead.\n",
      "  cwola_rocs = cwola_rocs.append({'fpr': fpr_cwola, 'tpr': tpr_cwola}, ignore_index=True)\n",
      "\r",
      " 85%|█████████████████████████████████████████████████████████████████████▋            | 17/20 [25:46<04:38, 92.96s/it]"
     ]
    },
    {
     "name": "stdout",
     "output_type": "stream",
     "text": [
      "675/675 [==============================] - 1s 1ms/step\n"
     ]
    },
    {
     "name": "stderr",
     "output_type": "stream",
     "text": [
      "C:\\Users\\bolit\\AppData\\Local\\Temp\\ipykernel_13380\\2394776141.py:48: FutureWarning: The frame.append method is deprecated and will be removed from pandas in a future version. Use pandas.concat instead.\n",
      "  cwola_rocs = cwola_rocs.append({'fpr': fpr_cwola, 'tpr': tpr_cwola}, ignore_index=True)\n",
      "\r",
      " 90%|█████████████████████████████████████████████████████████████████████████▊        | 18/20 [27:18<03:05, 92.82s/it]"
     ]
    },
    {
     "name": "stdout",
     "output_type": "stream",
     "text": [
      "675/675 [==============================] - 1s 1ms/step\n"
     ]
    },
    {
     "name": "stderr",
     "output_type": "stream",
     "text": [
      "C:\\Users\\bolit\\AppData\\Local\\Temp\\ipykernel_13380\\2394776141.py:48: FutureWarning: The frame.append method is deprecated and will be removed from pandas in a future version. Use pandas.concat instead.\n",
      "  cwola_rocs = cwola_rocs.append({'fpr': fpr_cwola, 'tpr': tpr_cwola}, ignore_index=True)\n",
      "\r",
      " 95%|█████████████████████████████████████████████████████████████████████████████▉    | 19/20 [29:00<01:35, 95.50s/it]"
     ]
    },
    {
     "name": "stdout",
     "output_type": "stream",
     "text": [
      "675/675 [==============================] - 1s 1ms/step\n"
     ]
    },
    {
     "name": "stderr",
     "output_type": "stream",
     "text": [
      "C:\\Users\\bolit\\AppData\\Local\\Temp\\ipykernel_13380\\2394776141.py:48: FutureWarning: The frame.append method is deprecated and will be removed from pandas in a future version. Use pandas.concat instead.\n",
      "  cwola_rocs = cwola_rocs.append({'fpr': fpr_cwola, 'tpr': tpr_cwola}, ignore_index=True)\n",
      "100%|██████████████████████████████████████████████████████████████████████████████████| 20/20 [30:38<00:00, 91.95s/it]\n"
     ]
    }
   ],
   "source": [
    "#Next is CWoLa\n",
    "tpr_pts = np.linspace(0, 1, 10000)\n",
    "cwola_rocs = pd.DataFrame(columns=['fpr', 'tpr'])\n",
    "\n",
    "for i in tqdm.tqdm(range(n_injections)):\n",
    "    \n",
    "    SR_signal_to_inject = SR_signals_to_inject[i]\n",
    "    SB_signal_to_inject = SB_signals_to_inject[i]\n",
    "\n",
    "    signal_to_test = signals_to_test[i]\n",
    "        \n",
    "    X_cwola_train = np.concatenate([SR_signal_to_inject, SR_background_data, SB_signal_to_inject, SB_background_data])\n",
    "    Y_cwola_train = np.concatenate([np.ones(len(SR_signal_to_inject)), np.ones(len(SR_background_data)),\n",
    "                                    np.zeros(len(SB_signal_to_inject)), np.zeros(len(SB_background_data))])\n",
    "    \n",
    "    X_cwola_train, Y_cwola_train = shuffle(X_cwola_train, Y_cwola_train, )\n",
    "\n",
    "    sbmjj = X_cwola_train[:,0]\n",
    "    sb_crit = ((sbmjj > SR_low - SB_width)&(sbmjj <= SR_high + SB_width))\n",
    "    \n",
    "    X_cwola_train = X_cwola_train[sb_crit]\n",
    "    Y_cwola_train = Y_cwola_train[sb_crit]\n",
    "    \n",
    "    w_low = 0.5*(len(SR_signal_to_inject) + len(SR_background_data))/((X_cwola_train[:,0] <= SR_low).sum())\n",
    "    w_high = 0.5*(len(SR_signal_to_inject) + len(SR_background_data))/((X_cwola_train[:,0] >= SR_high).sum())\n",
    "\n",
    "    W_cwola_train = np.ones_like(Y_cwola_train)\n",
    "    W_cwola_train[(Y_cwola_train == 0) & (X_cwola_train[:,0] <= SR_low)] = w_low\n",
    "    W_cwola_train[(Y_cwola_train == 0) & (X_cwola_train[:,0] >= SR_high)] = w_high\n",
    "    \n",
    "    X_cwola_val = np.concatenate([signal_to_test,SR_background_data_fortest])\n",
    "    Y_cwola_val = np.concatenate([np.ones(len(signal_to_test)),np.zeros(len(SR_background_data_fortest))])\n",
    "    \n",
    "    K.clear_session()\n",
    "    model_cwola = Sequential()\n",
    "    model_cwola.add(Dense(64, input_dim=N_inputs, activation='relu')) \n",
    "    model_cwola.add(Dense(64, activation='relu'))\n",
    "    model_cwola.add(Dense(64, activation='relu'))\n",
    "    model_cwola.add(Dense(1, activation='sigmoid'))\n",
    "    model_cwola.compile(loss='binary_crossentropy', optimizer='adam', metrics=['accuracy'])\n",
    "\n",
    "    hist_cwola = model_cwola.fit(X_cwola_train[:,1:], Y_cwola_train, epochs=EPOCHS, \n",
    "                                 batch_size=batch_size, verbose=0, sample_weight=W_cwola_train)\n",
    "\n",
    "    scores_cwola = model_cwola.predict(X_cwola_val[:,1:],batch_size=batch_size)\n",
    "        \n",
    "    fpr_cwola, tpr_cwola, _ = roc_curve(Y_cwola_val, scores_cwola)\n",
    "    cwola_rocs = cwola_rocs.append({'fpr': fpr_cwola, 'tpr': tpr_cwola}, ignore_index=True)"
   ]
  },
  {
   "cell_type": "code",
   "execution_count": 22,
   "metadata": {},
   "outputs": [
    {
     "name": "stderr",
     "output_type": "stream",
     "text": [
      "C:\\Users\\bolit\\AppData\\Local\\Temp\\ipykernel_13380\\3456826973.py:11: RuntimeWarning: divide by zero encountered in true_divide\n",
      "  fpr_interp = np.ma.masked_invalid(1./np.array(fpr_interp))\n",
      "C:\\Users\\bolit\\anaconda3\\lib\\site-packages\\numpy\\core\\fromnumeric.py:755: UserWarning: Warning: 'partition' will ignore the 'mask' of the MaskedArray.\n",
      "  a.partition(kth, axis=axis, kind=kind, order=order)\n"
     ]
    }
   ],
   "source": [
    "# CWoLa\n",
    "fpr_interp = [None] * len(cwola_rocs)\n",
    "\n",
    "for i, row in cwola_rocs.iterrows():\n",
    "    fpr, tpr = row\n",
    "    interp = interpolate.interp1d(tpr, fpr, fill_value=float('nan'), bounds_error=False, assume_sorted=True)\n",
    "\n",
    "    fpr_pts = interp(tpr_pts)\n",
    "    fpr_interp[i] = fpr_pts\n",
    "\n",
    "fpr_interp = np.ma.masked_invalid(1./np.array(fpr_interp))\n",
    "\n",
    "cwola_max = np.nanmax(fpr_interp, axis=0).data\n",
    "cwola_min = np.nanmin(fpr_interp, axis=0).data\n",
    "cwola_med = np.median(fpr_interp, axis=0).data\n",
    "cwola_mean = np.nanmean(fpr_interp, axis=0).data\n",
    "cwola_std = np.nanstd(fpr_interp, axis=0).data\n",
    "    \n",
    "sig_interp = np.ma.masked_invalid(np.sqrt(fpr_interp))\n",
    "    \n",
    "cwola_smean = np.nanmean(sig_interp, axis=0).data\n",
    "cwola_sstd = np.nanstd(sig_interp, axis=0).data"
   ]
  },
  {
   "cell_type": "code",
   "execution_count": 23,
   "metadata": {},
   "outputs": [
    {
     "name": "stderr",
     "output_type": "stream",
     "text": [
      "\r",
      "  0%|                                                                                           | 0/20 [00:00<?, ?it/s]"
     ]
    },
    {
     "name": "stdout",
     "output_type": "stream",
     "text": [
      "675/675 [==============================] - 1s 1ms/step\n"
     ]
    },
    {
     "name": "stderr",
     "output_type": "stream",
     "text": [
      "C:\\Users\\bolit\\AppData\\Local\\Temp\\ipykernel_13380\\887101774.py:39: FutureWarning: The frame.append method is deprecated and will be removed from pandas in a future version. Use pandas.concat instead.\n",
      "  ocwola_rocs = ocwola_rocs.append({'fpr': fpr_ocwola, 'tpr': tpr_ocwola}, ignore_index=True)\n",
      "\r",
      "  5%|████▏                                                                              | 1/20 [00:25<07:59, 25.25s/it]"
     ]
    },
    {
     "name": "stdout",
     "output_type": "stream",
     "text": [
      "675/675 [==============================] - 1s 1ms/step\n"
     ]
    },
    {
     "name": "stderr",
     "output_type": "stream",
     "text": [
      "C:\\Users\\bolit\\AppData\\Local\\Temp\\ipykernel_13380\\887101774.py:39: FutureWarning: The frame.append method is deprecated and will be removed from pandas in a future version. Use pandas.concat instead.\n",
      "  ocwola_rocs = ocwola_rocs.append({'fpr': fpr_ocwola, 'tpr': tpr_ocwola}, ignore_index=True)\n",
      "\r",
      " 10%|████████▎                                                                          | 2/20 [00:48<07:09, 23.85s/it]"
     ]
    },
    {
     "name": "stdout",
     "output_type": "stream",
     "text": [
      "675/675 [==============================] - 1s 1ms/step\n"
     ]
    },
    {
     "name": "stderr",
     "output_type": "stream",
     "text": [
      "C:\\Users\\bolit\\AppData\\Local\\Temp\\ipykernel_13380\\887101774.py:39: FutureWarning: The frame.append method is deprecated and will be removed from pandas in a future version. Use pandas.concat instead.\n",
      "  ocwola_rocs = ocwola_rocs.append({'fpr': fpr_ocwola, 'tpr': tpr_ocwola}, ignore_index=True)\n",
      "\r",
      " 15%|████████████▍                                                                      | 3/20 [01:10<06:35, 23.28s/it]"
     ]
    },
    {
     "name": "stdout",
     "output_type": "stream",
     "text": [
      "675/675 [==============================] - 1s 1ms/step\n"
     ]
    },
    {
     "name": "stderr",
     "output_type": "stream",
     "text": [
      "C:\\Users\\bolit\\AppData\\Local\\Temp\\ipykernel_13380\\887101774.py:39: FutureWarning: The frame.append method is deprecated and will be removed from pandas in a future version. Use pandas.concat instead.\n",
      "  ocwola_rocs = ocwola_rocs.append({'fpr': fpr_ocwola, 'tpr': tpr_ocwola}, ignore_index=True)\n",
      "\r",
      " 20%|████████████████▌                                                                  | 4/20 [01:34<06:17, 23.59s/it]"
     ]
    },
    {
     "name": "stdout",
     "output_type": "stream",
     "text": [
      "675/675 [==============================] - 1s 1ms/step\n"
     ]
    },
    {
     "name": "stderr",
     "output_type": "stream",
     "text": [
      "C:\\Users\\bolit\\AppData\\Local\\Temp\\ipykernel_13380\\887101774.py:39: FutureWarning: The frame.append method is deprecated and will be removed from pandas in a future version. Use pandas.concat instead.\n",
      "  ocwola_rocs = ocwola_rocs.append({'fpr': fpr_ocwola, 'tpr': tpr_ocwola}, ignore_index=True)\n",
      "\r",
      " 25%|████████████████████▊                                                              | 5/20 [02:00<06:04, 24.31s/it]"
     ]
    },
    {
     "name": "stdout",
     "output_type": "stream",
     "text": [
      "675/675 [==============================] - 1s 1ms/step\n"
     ]
    },
    {
     "name": "stderr",
     "output_type": "stream",
     "text": [
      "C:\\Users\\bolit\\AppData\\Local\\Temp\\ipykernel_13380\\887101774.py:39: FutureWarning: The frame.append method is deprecated and will be removed from pandas in a future version. Use pandas.concat instead.\n",
      "  ocwola_rocs = ocwola_rocs.append({'fpr': fpr_ocwola, 'tpr': tpr_ocwola}, ignore_index=True)\n",
      "\r",
      " 30%|████████████████████████▉                                                          | 6/20 [02:23<05:33, 23.79s/it]"
     ]
    },
    {
     "name": "stdout",
     "output_type": "stream",
     "text": [
      "675/675 [==============================] - 1s 1ms/step\n"
     ]
    },
    {
     "name": "stderr",
     "output_type": "stream",
     "text": [
      "C:\\Users\\bolit\\AppData\\Local\\Temp\\ipykernel_13380\\887101774.py:39: FutureWarning: The frame.append method is deprecated and will be removed from pandas in a future version. Use pandas.concat instead.\n",
      "  ocwola_rocs = ocwola_rocs.append({'fpr': fpr_ocwola, 'tpr': tpr_ocwola}, ignore_index=True)\n",
      "\r",
      " 35%|█████████████████████████████                                                      | 7/20 [02:51<05:27, 25.16s/it]"
     ]
    },
    {
     "name": "stdout",
     "output_type": "stream",
     "text": [
      "675/675 [==============================] - 1s 1ms/step\n"
     ]
    },
    {
     "name": "stderr",
     "output_type": "stream",
     "text": [
      "C:\\Users\\bolit\\AppData\\Local\\Temp\\ipykernel_13380\\887101774.py:39: FutureWarning: The frame.append method is deprecated and will be removed from pandas in a future version. Use pandas.concat instead.\n",
      "  ocwola_rocs = ocwola_rocs.append({'fpr': fpr_ocwola, 'tpr': tpr_ocwola}, ignore_index=True)\n",
      "\r",
      " 40%|█████████████████████████████████▏                                                 | 8/20 [03:19<05:12, 26.08s/it]"
     ]
    },
    {
     "name": "stdout",
     "output_type": "stream",
     "text": [
      "675/675 [==============================] - 1s 1ms/step\n"
     ]
    },
    {
     "name": "stderr",
     "output_type": "stream",
     "text": [
      "C:\\Users\\bolit\\AppData\\Local\\Temp\\ipykernel_13380\\887101774.py:39: FutureWarning: The frame.append method is deprecated and will be removed from pandas in a future version. Use pandas.concat instead.\n",
      "  ocwola_rocs = ocwola_rocs.append({'fpr': fpr_ocwola, 'tpr': tpr_ocwola}, ignore_index=True)\n",
      "\r",
      " 45%|█████████████████████████████████████▎                                             | 9/20 [03:45<04:49, 26.29s/it]"
     ]
    },
    {
     "name": "stdout",
     "output_type": "stream",
     "text": [
      "675/675 [==============================] - 1s 1ms/step\n"
     ]
    },
    {
     "name": "stderr",
     "output_type": "stream",
     "text": [
      "C:\\Users\\bolit\\AppData\\Local\\Temp\\ipykernel_13380\\887101774.py:39: FutureWarning: The frame.append method is deprecated and will be removed from pandas in a future version. Use pandas.concat instead.\n",
      "  ocwola_rocs = ocwola_rocs.append({'fpr': fpr_ocwola, 'tpr': tpr_ocwola}, ignore_index=True)\n",
      "\r",
      " 50%|█████████████████████████████████████████                                         | 10/20 [04:10<04:16, 25.70s/it]"
     ]
    },
    {
     "name": "stdout",
     "output_type": "stream",
     "text": [
      "675/675 [==============================] - 1s 1ms/step\n"
     ]
    },
    {
     "name": "stderr",
     "output_type": "stream",
     "text": [
      "C:\\Users\\bolit\\AppData\\Local\\Temp\\ipykernel_13380\\887101774.py:39: FutureWarning: The frame.append method is deprecated and will be removed from pandas in a future version. Use pandas.concat instead.\n",
      "  ocwola_rocs = ocwola_rocs.append({'fpr': fpr_ocwola, 'tpr': tpr_ocwola}, ignore_index=True)\n",
      "\r",
      " 55%|█████████████████████████████████████████████                                     | 11/20 [04:34<03:46, 25.11s/it]"
     ]
    },
    {
     "name": "stdout",
     "output_type": "stream",
     "text": [
      "675/675 [==============================] - 1s 1ms/step\n"
     ]
    },
    {
     "name": "stderr",
     "output_type": "stream",
     "text": [
      "C:\\Users\\bolit\\AppData\\Local\\Temp\\ipykernel_13380\\887101774.py:39: FutureWarning: The frame.append method is deprecated and will be removed from pandas in a future version. Use pandas.concat instead.\n",
      "  ocwola_rocs = ocwola_rocs.append({'fpr': fpr_ocwola, 'tpr': tpr_ocwola}, ignore_index=True)\n",
      "\r",
      " 60%|█████████████████████████████████████████████████▏                                | 12/20 [04:57<03:17, 24.64s/it]"
     ]
    },
    {
     "name": "stdout",
     "output_type": "stream",
     "text": [
      "675/675 [==============================] - 1s 1ms/step\n"
     ]
    },
    {
     "name": "stderr",
     "output_type": "stream",
     "text": [
      "C:\\Users\\bolit\\AppData\\Local\\Temp\\ipykernel_13380\\887101774.py:39: FutureWarning: The frame.append method is deprecated and will be removed from pandas in a future version. Use pandas.concat instead.\n",
      "  ocwola_rocs = ocwola_rocs.append({'fpr': fpr_ocwola, 'tpr': tpr_ocwola}, ignore_index=True)\n",
      "\r",
      " 65%|█████████████████████████████████████████████████████▎                            | 13/20 [05:21<02:51, 24.52s/it]"
     ]
    },
    {
     "name": "stdout",
     "output_type": "stream",
     "text": [
      "675/675 [==============================] - 1s 1ms/step\n"
     ]
    },
    {
     "name": "stderr",
     "output_type": "stream",
     "text": [
      "C:\\Users\\bolit\\AppData\\Local\\Temp\\ipykernel_13380\\887101774.py:39: FutureWarning: The frame.append method is deprecated and will be removed from pandas in a future version. Use pandas.concat instead.\n",
      "  ocwola_rocs = ocwola_rocs.append({'fpr': fpr_ocwola, 'tpr': tpr_ocwola}, ignore_index=True)\n",
      "\r",
      " 70%|█████████████████████████████████████████████████████████▍                        | 14/20 [05:43<02:22, 23.76s/it]"
     ]
    },
    {
     "name": "stdout",
     "output_type": "stream",
     "text": [
      "675/675 [==============================] - 1s 1ms/step\n"
     ]
    },
    {
     "name": "stderr",
     "output_type": "stream",
     "text": [
      "C:\\Users\\bolit\\AppData\\Local\\Temp\\ipykernel_13380\\887101774.py:39: FutureWarning: The frame.append method is deprecated and will be removed from pandas in a future version. Use pandas.concat instead.\n",
      "  ocwola_rocs = ocwola_rocs.append({'fpr': fpr_ocwola, 'tpr': tpr_ocwola}, ignore_index=True)\n",
      "\r",
      " 75%|█████████████████████████████████████████████████████████████▌                    | 15/20 [06:05<01:56, 23.20s/it]"
     ]
    },
    {
     "name": "stdout",
     "output_type": "stream",
     "text": [
      "675/675 [==============================] - 1s 1ms/step\n"
     ]
    },
    {
     "name": "stderr",
     "output_type": "stream",
     "text": [
      "C:\\Users\\bolit\\AppData\\Local\\Temp\\ipykernel_13380\\887101774.py:39: FutureWarning: The frame.append method is deprecated and will be removed from pandas in a future version. Use pandas.concat instead.\n",
      "  ocwola_rocs = ocwola_rocs.append({'fpr': fpr_ocwola, 'tpr': tpr_ocwola}, ignore_index=True)\n",
      "\r",
      " 80%|█████████████████████████████████████████████████████████████████▌                | 16/20 [06:29<01:33, 23.27s/it]"
     ]
    },
    {
     "name": "stdout",
     "output_type": "stream",
     "text": [
      "675/675 [==============================] - 1s 1ms/step\n"
     ]
    },
    {
     "name": "stderr",
     "output_type": "stream",
     "text": [
      "C:\\Users\\bolit\\AppData\\Local\\Temp\\ipykernel_13380\\887101774.py:39: FutureWarning: The frame.append method is deprecated and will be removed from pandas in a future version. Use pandas.concat instead.\n",
      "  ocwola_rocs = ocwola_rocs.append({'fpr': fpr_ocwola, 'tpr': tpr_ocwola}, ignore_index=True)\n",
      "\r",
      " 85%|█████████████████████████████████████████████████████████████████████▋            | 17/20 [06:59<01:15, 25.30s/it]"
     ]
    },
    {
     "name": "stdout",
     "output_type": "stream",
     "text": [
      "675/675 [==============================] - 1s 1ms/step\n"
     ]
    },
    {
     "name": "stderr",
     "output_type": "stream",
     "text": [
      "C:\\Users\\bolit\\AppData\\Local\\Temp\\ipykernel_13380\\887101774.py:39: FutureWarning: The frame.append method is deprecated and will be removed from pandas in a future version. Use pandas.concat instead.\n",
      "  ocwola_rocs = ocwola_rocs.append({'fpr': fpr_ocwola, 'tpr': tpr_ocwola}, ignore_index=True)\n",
      "\r",
      " 90%|█████████████████████████████████████████████████████████████████████████▊        | 18/20 [07:25<00:51, 25.51s/it]"
     ]
    },
    {
     "name": "stdout",
     "output_type": "stream",
     "text": [
      "675/675 [==============================] - 1s 1ms/step\n"
     ]
    },
    {
     "name": "stderr",
     "output_type": "stream",
     "text": [
      "C:\\Users\\bolit\\AppData\\Local\\Temp\\ipykernel_13380\\887101774.py:39: FutureWarning: The frame.append method is deprecated and will be removed from pandas in a future version. Use pandas.concat instead.\n",
      "  ocwola_rocs = ocwola_rocs.append({'fpr': fpr_ocwola, 'tpr': tpr_ocwola}, ignore_index=True)\n",
      "\r",
      " 95%|█████████████████████████████████████████████████████████████████████████████▉    | 19/20 [07:50<00:25, 25.53s/it]"
     ]
    },
    {
     "name": "stdout",
     "output_type": "stream",
     "text": [
      "675/675 [==============================] - 1s 1ms/step\n"
     ]
    },
    {
     "name": "stderr",
     "output_type": "stream",
     "text": [
      "C:\\Users\\bolit\\AppData\\Local\\Temp\\ipykernel_13380\\887101774.py:39: FutureWarning: The frame.append method is deprecated and will be removed from pandas in a future version. Use pandas.concat instead.\n",
      "  ocwola_rocs = ocwola_rocs.append({'fpr': fpr_ocwola, 'tpr': tpr_ocwola}, ignore_index=True)\n",
      "100%|██████████████████████████████████████████████████████████████████████████████████| 20/20 [08:16<00:00, 24.82s/it]\n"
     ]
    }
   ],
   "source": [
    "#Now let's optimal CWoLa\n",
    "ocwola_rocs = pd.DataFrame(columns=['fpr', 'tpr'])\n",
    "\n",
    "for i in tqdm.tqdm(range(n_injections)):\n",
    "    SR_signal_to_inject = SR_signals_to_inject[i]\n",
    "    SB_signal_to_inject = SB_signals_to_inject[i]\n",
    "\n",
    "    signal_to_test = signals_to_test[i]\n",
    "\n",
    "    X_ocwola_train = np.concatenate([SR_signal_to_inject, SR_background_data,SR_background_data_fortest])\n",
    "    Y_ocwola_train = np.concatenate([np.ones(len(SR_signal_to_inject)),np.ones(len(SR_background_data)),np.zeros(len(SR_background_data_fortest))])\n",
    "\n",
    "    X_ocwola_train, Y_ocwola_train = shuffle(X_ocwola_train, Y_ocwola_train)\n",
    "\n",
    "    sbmjj = X_ocwola_train[:,0]\n",
    "    sb_crit = ((sbmjj > SR_low - SB_width)&(sbmjj <= SR_high + SB_width))\n",
    "    \n",
    "    X_ocwola_train = X_ocwola_train[sb_crit]\n",
    "    Y_ocwola_train = Y_ocwola_train[sb_crit]\n",
    "\n",
    "    X_ocwola_val = np.concatenate([signal_to_test,SR_background_data_fortest])\n",
    "    Y_ocwola_val = np.concatenate([np.ones(len(signal_to_test)),np.zeros(len(SR_background_data_fortest))])\n",
    "\n",
    "\n",
    "    K.clear_session()\n",
    "    model_ocwola = Sequential()\n",
    "    model_ocwola.add(Dense(64, input_dim=N_inputs, activation='relu')) \n",
    "    \n",
    "    model_ocwola.add(Dense(64, activation='relu'))\n",
    "    model_ocwola.add(Dense(64, activation='relu'))\n",
    "    model_ocwola.add(Dense(1, activation='sigmoid'))\n",
    "    model_ocwola.compile(loss='binary_crossentropy', optimizer='adam', metrics=['accuracy'])\n",
    "    hist_ocwola = model_ocwola.fit(X_ocwola_train[:,1:], Y_ocwola_train, epochs=EPOCHS, \n",
    "                                 batch_size=batch_size, verbose=0)\n",
    "\n",
    "    scores_ocwola = model_ocwola.predict(X_ocwola_val[:,1:],batch_size=batch_size)\n",
    "    \n",
    "    fpr_ocwola, tpr_ocwola, _ = roc_curve(Y_ocwola_val, scores_ocwola)\n",
    "    ocwola_rocs = ocwola_rocs.append({'fpr': fpr_ocwola, 'tpr': tpr_ocwola}, ignore_index=True)"
   ]
  },
  {
   "cell_type": "code",
   "execution_count": 24,
   "metadata": {},
   "outputs": [
    {
     "name": "stderr",
     "output_type": "stream",
     "text": [
      "C:\\Users\\bolit\\AppData\\Local\\Temp\\ipykernel_13380\\2785028550.py:13: RuntimeWarning: divide by zero encountered in true_divide\n",
      "  fpr_interp = np.ma.masked_invalid(1./np.array(fpr_interp))\n",
      "C:\\Users\\bolit\\anaconda3\\lib\\site-packages\\numpy\\core\\fromnumeric.py:755: UserWarning: Warning: 'partition' will ignore the 'mask' of the MaskedArray.\n",
      "  a.partition(kth, axis=axis, kind=kind, order=order)\n"
     ]
    }
   ],
   "source": [
    "# optimal CWoLa\n",
    "tpr_pts = np.linspace(0, 1, 10000)\n",
    "\n",
    "fpr_interp = [None] * len(ocwola_rocs)\n",
    "    \n",
    "for i, row in ocwola_rocs.iterrows():\n",
    "    fpr, tpr = row\n",
    "    interp = interpolate.interp1d(tpr, fpr, fill_value=float('nan'), bounds_error=False, assume_sorted=True)\n",
    "\n",
    "    fpr_pts = interp(tpr_pts)\n",
    "    fpr_interp[i] = fpr_pts\n",
    "\n",
    "fpr_interp = np.ma.masked_invalid(1./np.array(fpr_interp))\n",
    "\n",
    "ocwola_max = np.nanmax(fpr_interp, axis=0).data\n",
    "ocwola_min = np.nanmin(fpr_interp, axis=0).data\n",
    "ocwola_med = np.median(fpr_interp, axis=0).data\n",
    "ocwola_mean = np.nanmean(fpr_interp, axis=0).data\n",
    "ocwola_std = np.nanstd(fpr_interp, axis=0).data\n",
    "   \n",
    "sig_interp = np.ma.masked_invalid(np.sqrt(fpr_interp))\n",
    "    \n",
    "ocwola_smean = np.nanmean(sig_interp, axis=0).data\n",
    "ocwola_sstd = np.nanstd(sig_interp, axis=0).data"
   ]
  },
  {
   "cell_type": "code",
   "execution_count": 25,
   "metadata": {},
   "outputs": [
    {
     "name": "stderr",
     "output_type": "stream",
     "text": [
      "\r",
      "  0%|                                                                                           | 0/20 [00:00<?, ?it/s]"
     ]
    },
    {
     "name": "stdout",
     "output_type": "stream",
     "text": [
      "675/675 [==============================] - 1s 1ms/step\n"
     ]
    },
    {
     "name": "stderr",
     "output_type": "stream",
     "text": [
      "C:\\Users\\bolit\\AppData\\Local\\Temp\\ipykernel_13380\\210455975.py:81: FutureWarning: The frame.append method is deprecated and will be removed from pandas in a future version. Use pandas.concat instead.\n",
      "  ksacwola_rocs = ksacwola_rocs.append({'fpr': fpr_ksacwola, 'tpr': tpr_ksacwola}, ignore_index=True)\n",
      "\r",
      "  5%|████                                                                              | 1/20 [03:06<58:59, 186.31s/it]"
     ]
    },
    {
     "name": "stdout",
     "output_type": "stream",
     "text": [
      "675/675 [==============================] - 1s 1ms/step\n"
     ]
    },
    {
     "name": "stderr",
     "output_type": "stream",
     "text": [
      "C:\\Users\\bolit\\AppData\\Local\\Temp\\ipykernel_13380\\210455975.py:81: FutureWarning: The frame.append method is deprecated and will be removed from pandas in a future version. Use pandas.concat instead.\n",
      "  ksacwola_rocs = ksacwola_rocs.append({'fpr': fpr_ksacwola, 'tpr': tpr_ksacwola}, ignore_index=True)\n",
      "\r",
      " 10%|████████▏                                                                         | 2/20 [06:03<54:18, 181.05s/it]"
     ]
    },
    {
     "name": "stdout",
     "output_type": "stream",
     "text": [
      "675/675 [==============================] - 1s 1ms/step\n"
     ]
    },
    {
     "name": "stderr",
     "output_type": "stream",
     "text": [
      "C:\\Users\\bolit\\AppData\\Local\\Temp\\ipykernel_13380\\210455975.py:81: FutureWarning: The frame.append method is deprecated and will be removed from pandas in a future version. Use pandas.concat instead.\n",
      "  ksacwola_rocs = ksacwola_rocs.append({'fpr': fpr_ksacwola, 'tpr': tpr_ksacwola}, ignore_index=True)\n",
      "\r",
      " 15%|████████████▎                                                                     | 3/20 [08:56<50:12, 177.19s/it]"
     ]
    },
    {
     "name": "stdout",
     "output_type": "stream",
     "text": [
      "675/675 [==============================] - 1s 1ms/step\n"
     ]
    },
    {
     "name": "stderr",
     "output_type": "stream",
     "text": [
      "C:\\Users\\bolit\\AppData\\Local\\Temp\\ipykernel_13380\\210455975.py:81: FutureWarning: The frame.append method is deprecated and will be removed from pandas in a future version. Use pandas.concat instead.\n",
      "  ksacwola_rocs = ksacwola_rocs.append({'fpr': fpr_ksacwola, 'tpr': tpr_ksacwola}, ignore_index=True)\n",
      "\r",
      " 20%|████████████████▍                                                                 | 4/20 [11:47<46:36, 174.76s/it]"
     ]
    },
    {
     "name": "stdout",
     "output_type": "stream",
     "text": [
      "675/675 [==============================] - 1s 1ms/step\n"
     ]
    },
    {
     "name": "stderr",
     "output_type": "stream",
     "text": [
      "C:\\Users\\bolit\\AppData\\Local\\Temp\\ipykernel_13380\\210455975.py:81: FutureWarning: The frame.append method is deprecated and will be removed from pandas in a future version. Use pandas.concat instead.\n",
      "  ksacwola_rocs = ksacwola_rocs.append({'fpr': fpr_ksacwola, 'tpr': tpr_ksacwola}, ignore_index=True)\n",
      "\r",
      " 25%|████████████████████▌                                                             | 5/20 [14:57<45:02, 180.15s/it]"
     ]
    },
    {
     "name": "stdout",
     "output_type": "stream",
     "text": [
      "675/675 [==============================] - 1s 1ms/step\n"
     ]
    },
    {
     "name": "stderr",
     "output_type": "stream",
     "text": [
      "C:\\Users\\bolit\\AppData\\Local\\Temp\\ipykernel_13380\\210455975.py:81: FutureWarning: The frame.append method is deprecated and will be removed from pandas in a future version. Use pandas.concat instead.\n",
      "  ksacwola_rocs = ksacwola_rocs.append({'fpr': fpr_ksacwola, 'tpr': tpr_ksacwola}, ignore_index=True)\n",
      "\r",
      " 30%|████████████████████████▌                                                         | 6/20 [18:03<42:33, 182.37s/it]"
     ]
    },
    {
     "name": "stdout",
     "output_type": "stream",
     "text": [
      "675/675 [==============================] - 1s 1ms/step\n"
     ]
    },
    {
     "name": "stderr",
     "output_type": "stream",
     "text": [
      "C:\\Users\\bolit\\AppData\\Local\\Temp\\ipykernel_13380\\210455975.py:81: FutureWarning: The frame.append method is deprecated and will be removed from pandas in a future version. Use pandas.concat instead.\n",
      "  ksacwola_rocs = ksacwola_rocs.append({'fpr': fpr_ksacwola, 'tpr': tpr_ksacwola}, ignore_index=True)\n",
      "\r",
      " 35%|████████████████████████████▋                                                     | 7/20 [21:07<39:38, 182.93s/it]"
     ]
    },
    {
     "name": "stdout",
     "output_type": "stream",
     "text": [
      "675/675 [==============================] - 1s 1ms/step\n"
     ]
    },
    {
     "name": "stderr",
     "output_type": "stream",
     "text": [
      "C:\\Users\\bolit\\AppData\\Local\\Temp\\ipykernel_13380\\210455975.py:81: FutureWarning: The frame.append method is deprecated and will be removed from pandas in a future version. Use pandas.concat instead.\n",
      "  ksacwola_rocs = ksacwola_rocs.append({'fpr': fpr_ksacwola, 'tpr': tpr_ksacwola}, ignore_index=True)\n",
      "\r",
      " 40%|████████████████████████████████▊                                                 | 8/20 [24:06<36:18, 181.57s/it]"
     ]
    },
    {
     "name": "stdout",
     "output_type": "stream",
     "text": [
      "675/675 [==============================] - 1s 1ms/step\n"
     ]
    },
    {
     "name": "stderr",
     "output_type": "stream",
     "text": [
      "C:\\Users\\bolit\\AppData\\Local\\Temp\\ipykernel_13380\\210455975.py:81: FutureWarning: The frame.append method is deprecated and will be removed from pandas in a future version. Use pandas.concat instead.\n",
      "  ksacwola_rocs = ksacwola_rocs.append({'fpr': fpr_ksacwola, 'tpr': tpr_ksacwola}, ignore_index=True)\n",
      "\r",
      " 45%|████████████████████████████████████▉                                             | 9/20 [27:07<33:16, 181.54s/it]"
     ]
    },
    {
     "name": "stdout",
     "output_type": "stream",
     "text": [
      "675/675 [==============================] - 1s 1ms/step\n"
     ]
    },
    {
     "name": "stderr",
     "output_type": "stream",
     "text": [
      "C:\\Users\\bolit\\AppData\\Local\\Temp\\ipykernel_13380\\210455975.py:81: FutureWarning: The frame.append method is deprecated and will be removed from pandas in a future version. Use pandas.concat instead.\n",
      "  ksacwola_rocs = ksacwola_rocs.append({'fpr': fpr_ksacwola, 'tpr': tpr_ksacwola}, ignore_index=True)\n",
      "\r",
      " 50%|████████████████████████████████████████▌                                        | 10/20 [30:00<29:48, 178.86s/it]"
     ]
    },
    {
     "name": "stdout",
     "output_type": "stream",
     "text": [
      "675/675 [==============================] - 1s 1ms/step\n"
     ]
    },
    {
     "name": "stderr",
     "output_type": "stream",
     "text": [
      "C:\\Users\\bolit\\AppData\\Local\\Temp\\ipykernel_13380\\210455975.py:81: FutureWarning: The frame.append method is deprecated and will be removed from pandas in a future version. Use pandas.concat instead.\n",
      "  ksacwola_rocs = ksacwola_rocs.append({'fpr': fpr_ksacwola, 'tpr': tpr_ksacwola}, ignore_index=True)\n",
      "\r",
      " 55%|████████████████████████████████████████████▌                                    | 11/20 [32:53<26:32, 176.90s/it]"
     ]
    },
    {
     "name": "stdout",
     "output_type": "stream",
     "text": [
      "675/675 [==============================] - 1s 1ms/step\n"
     ]
    },
    {
     "name": "stderr",
     "output_type": "stream",
     "text": [
      "C:\\Users\\bolit\\AppData\\Local\\Temp\\ipykernel_13380\\210455975.py:81: FutureWarning: The frame.append method is deprecated and will be removed from pandas in a future version. Use pandas.concat instead.\n",
      "  ksacwola_rocs = ksacwola_rocs.append({'fpr': fpr_ksacwola, 'tpr': tpr_ksacwola}, ignore_index=True)\n",
      "\r",
      " 60%|████████████████████████████████████████████████▌                                | 12/20 [35:45<23:23, 175.48s/it]"
     ]
    },
    {
     "name": "stdout",
     "output_type": "stream",
     "text": [
      "675/675 [==============================] - 1s 1ms/step\n"
     ]
    },
    {
     "name": "stderr",
     "output_type": "stream",
     "text": [
      "C:\\Users\\bolit\\AppData\\Local\\Temp\\ipykernel_13380\\210455975.py:81: FutureWarning: The frame.append method is deprecated and will be removed from pandas in a future version. Use pandas.concat instead.\n",
      "  ksacwola_rocs = ksacwola_rocs.append({'fpr': fpr_ksacwola, 'tpr': tpr_ksacwola}, ignore_index=True)\n",
      "\r",
      " 65%|████████████████████████████████████████████████████▋                            | 13/20 [38:55<20:59, 179.98s/it]"
     ]
    },
    {
     "name": "stdout",
     "output_type": "stream",
     "text": [
      "675/675 [==============================] - 1s 1ms/step\n"
     ]
    },
    {
     "name": "stderr",
     "output_type": "stream",
     "text": [
      "C:\\Users\\bolit\\AppData\\Local\\Temp\\ipykernel_13380\\210455975.py:81: FutureWarning: The frame.append method is deprecated and will be removed from pandas in a future version. Use pandas.concat instead.\n",
      "  ksacwola_rocs = ksacwola_rocs.append({'fpr': fpr_ksacwola, 'tpr': tpr_ksacwola}, ignore_index=True)\n",
      "\r",
      " 70%|████████████████████████████████████████████████████████▋                        | 14/20 [42:05<18:17, 182.90s/it]"
     ]
    },
    {
     "name": "stdout",
     "output_type": "stream",
     "text": [
      "675/675 [==============================] - 1s 1ms/step\n"
     ]
    },
    {
     "name": "stderr",
     "output_type": "stream",
     "text": [
      "C:\\Users\\bolit\\AppData\\Local\\Temp\\ipykernel_13380\\210455975.py:81: FutureWarning: The frame.append method is deprecated and will be removed from pandas in a future version. Use pandas.concat instead.\n",
      "  ksacwola_rocs = ksacwola_rocs.append({'fpr': fpr_ksacwola, 'tpr': tpr_ksacwola}, ignore_index=True)\n",
      "\r",
      " 75%|████████████████████████████████████████████████████████████▊                    | 15/20 [45:14<15:24, 184.84s/it]"
     ]
    },
    {
     "name": "stdout",
     "output_type": "stream",
     "text": [
      "675/675 [==============================] - 1s 1ms/step\n"
     ]
    },
    {
     "name": "stderr",
     "output_type": "stream",
     "text": [
      "C:\\Users\\bolit\\AppData\\Local\\Temp\\ipykernel_13380\\210455975.py:81: FutureWarning: The frame.append method is deprecated and will be removed from pandas in a future version. Use pandas.concat instead.\n",
      "  ksacwola_rocs = ksacwola_rocs.append({'fpr': fpr_ksacwola, 'tpr': tpr_ksacwola}, ignore_index=True)\n",
      "\r",
      " 80%|████████████████████████████████████████████████████████████████▊                | 16/20 [48:24<12:24, 186.22s/it]"
     ]
    },
    {
     "name": "stdout",
     "output_type": "stream",
     "text": [
      "675/675 [==============================] - 1s 1ms/step\n"
     ]
    },
    {
     "name": "stderr",
     "output_type": "stream",
     "text": [
      "C:\\Users\\bolit\\AppData\\Local\\Temp\\ipykernel_13380\\210455975.py:81: FutureWarning: The frame.append method is deprecated and will be removed from pandas in a future version. Use pandas.concat instead.\n",
      "  ksacwola_rocs = ksacwola_rocs.append({'fpr': fpr_ksacwola, 'tpr': tpr_ksacwola}, ignore_index=True)\n",
      "\r",
      " 85%|████████████████████████████████████████████████████████████████████▊            | 17/20 [51:33<09:21, 187.16s/it]"
     ]
    },
    {
     "name": "stdout",
     "output_type": "stream",
     "text": [
      "675/675 [==============================] - 1s 1ms/step\n"
     ]
    },
    {
     "name": "stderr",
     "output_type": "stream",
     "text": [
      "C:\\Users\\bolit\\AppData\\Local\\Temp\\ipykernel_13380\\210455975.py:81: FutureWarning: The frame.append method is deprecated and will be removed from pandas in a future version. Use pandas.concat instead.\n",
      "  ksacwola_rocs = ksacwola_rocs.append({'fpr': fpr_ksacwola, 'tpr': tpr_ksacwola}, ignore_index=True)\n",
      "\r",
      " 90%|████████████████████████████████████████████████████████████████████████▉        | 18/20 [54:33<06:10, 185.02s/it]"
     ]
    },
    {
     "name": "stdout",
     "output_type": "stream",
     "text": [
      "675/675 [==============================] - 1s 1ms/step\n"
     ]
    },
    {
     "name": "stderr",
     "output_type": "stream",
     "text": [
      "C:\\Users\\bolit\\AppData\\Local\\Temp\\ipykernel_13380\\210455975.py:81: FutureWarning: The frame.append method is deprecated and will be removed from pandas in a future version. Use pandas.concat instead.\n",
      "  ksacwola_rocs = ksacwola_rocs.append({'fpr': fpr_ksacwola, 'tpr': tpr_ksacwola}, ignore_index=True)\n",
      "\r",
      " 95%|████████████████████████████████████████████████████████████████████████████▉    | 19/20 [57:26<03:01, 181.38s/it]"
     ]
    },
    {
     "name": "stdout",
     "output_type": "stream",
     "text": [
      "675/675 [==============================] - 1s 1ms/step\n"
     ]
    },
    {
     "name": "stderr",
     "output_type": "stream",
     "text": [
      "C:\\Users\\bolit\\AppData\\Local\\Temp\\ipykernel_13380\\210455975.py:81: FutureWarning: The frame.append method is deprecated and will be removed from pandas in a future version. Use pandas.concat instead.\n",
      "  ksacwola_rocs = ksacwola_rocs.append({'fpr': fpr_ksacwola, 'tpr': tpr_ksacwola}, ignore_index=True)\n",
      "100%|███████████████████████████████████████████████████████████████████████████████| 20/20 [1:00:20<00:00, 181.03s/it]\n"
     ]
    }
   ],
   "source": [
    "#Next is SA-CWoLa\n",
    "myklambda = 1 #np.round(len(SR_background_data)/len(SR_background_sim), 3)\n",
    "\n",
    "ksacwola_rocs = pd.DataFrame(columns=['fpr', 'tpr'])\n",
    "\n",
    "for i in tqdm.tqdm(range(n_injections)):\n",
    "    \n",
    "    SR_signal_to_inject = SR_signals_to_inject[i]\n",
    "    SB_signal_to_inject = SB_signals_to_inject[i]\n",
    "\n",
    "    signal_to_test = signals_to_test[i]\n",
    "\n",
    "    X_ksacwola_train = np.concatenate([\n",
    "        SR_signal_to_inject, SB_signal_to_inject[SB_signal_to_inject[:,0] < SR_low], SB_signal_to_inject[SB_signal_to_inject[:,0] > SR_high],\n",
    "        SR_background_data, SB_background_data[SB_background_data[:,0] < SR_low], SB_background_data[SB_background_data[:,0] > SR_high],\n",
    "        SR_background_sim, SB_background_sim[SB_background_sim[:,0] < SR_low], SB_background_sim[SB_background_sim[:,0] > SR_high]\n",
    "    ])\n",
    "    Y_ksacwola_train = np.concatenate([\n",
    "        np.ones(len(SR_signal_to_inject)), np.zeros(len(SB_signal_to_inject)),\n",
    "        np.ones(len(SR_background_data)), np.zeros(len(SB_background_data)),\n",
    "        np.zeros(len(SR_background_sim)), np.ones(len(SB_background_sim))\n",
    "    ])\n",
    "        \n",
    "    n_low_data = ((SB_background_data[:,0] > (SR_low - SB_width)) & ((SB_background_data[:,0] <= SR_low))).sum()\n",
    "    n_low_sim = ((SB_background_sim[:,0] > (SR_low - SB_width)) & ((SB_background_sim[:,0] <= SR_low))).sum()\n",
    "    n_low_sig = ((SB_signal_to_inject[:,0] > (SR_low - SB_width)) & ((SB_signal_to_inject[:,0] <= SR_low))).sum()\n",
    "\n",
    "    n_hi_data = ((SB_background_data[:,0] < (SR_high + SB_width)) & ((SB_background_data[:,0] >= SR_high))).sum()\n",
    "    n_hi_sim = ((SB_background_sim[:,0] < (SR_high + SB_width)) & ((SB_background_sim[:,0] >= SR_high))).sum()\n",
    "    n_hi_sig = ((SB_signal_to_inject[:,0] < (SR_high + SB_width)) & ((SB_signal_to_inject[:,0] >= SR_high))).sum()\n",
    "\n",
    "    n_sr_data = len(SR_background_data)\n",
    "    n_sr_sim = len(SR_background_sim)\n",
    "    n_sr_sig = len(SR_signal_to_inject)\n",
    "        \n",
    "    \n",
    "    w_low = 0.5*(n_sr_sig + n_sr_data)/(n_low_sig + n_low_data)\n",
    "    w_low_sim = 0.5*(n_sr_sim)/(n_low_sim)\n",
    "    \n",
    "    w_high = 0.5*(n_sr_sig + n_sr_data)/(n_hi_sig + n_hi_data)\n",
    "    w_high_sim = 0.5*(n_sr_sim)/(n_hi_sim)\n",
    "    \n",
    "    \n",
    "    \n",
    "    W_ksacwola_train = np.concatenate([\n",
    "        np.ones(len(SR_signal_to_inject)), w_low*np.ones((SB_signal_to_inject[:,0] <= SR_low).sum()), w_high*np.ones((SB_signal_to_inject[:,0] > SR_high).sum()),\n",
    "        np.ones(len(SR_background_data)), w_low*np.ones((SB_background_data[:,0] <= SR_low).sum()), w_high*np.ones((SB_background_data[:,0] > SR_high).sum()),\n",
    "        myklambda*np.ones(len(SR_background_sim)), w_low_sim*myklambda*np.ones((SB_background_sim[:,0] <= SR_low).sum()), w_high_sim*myklambda*np.ones((SB_background_sim[:,0] > SR_high).sum())\n",
    "    ])\n",
    "    \n",
    "    sbmjj = X_ksacwola_train[:,0]\n",
    "    sb_crit = ((sbmjj > SR_low - SB_width)&(sbmjj <= SR_high + SB_width))\n",
    "    \n",
    "    X_ksacwola_train = X_ksacwola_train[sb_crit]\n",
    "    Y_ksacwola_train = Y_ksacwola_train[sb_crit]\n",
    "    W_ksacwola_train = W_ksacwola_train[sb_crit]\n",
    "    \n",
    "    \n",
    "    X_ksacwola_train, Y_ksacwola_train, W_ksacwola_train = shuffle(X_ksacwola_train, Y_ksacwola_train, W_ksacwola_train)\n",
    "\n",
    "    \n",
    "    X_ksacwola_val = np.concatenate([signal_to_test,SR_background_data_fortest])\n",
    "    Y_ksacwola_val = np.concatenate([np.ones(len(signal_to_test)),np.zeros(len(SR_background_data_fortest))])\n",
    "    \n",
    "    K.clear_session()\n",
    "    model_ksacwola = Sequential()\n",
    "    model_ksacwola.add(Dense(64, input_dim=N_inputs, activation='relu')) \n",
    "    model_ksacwola.add(Dense(64, activation='relu'))\n",
    "    model_ksacwola.add(Dense(64, activation='relu'))\n",
    "    model_ksacwola.add(Dense(1, activation='sigmoid'))\n",
    "    model_ksacwola.compile(loss='binary_crossentropy', optimizer='adam', metrics=['accuracy'])\n",
    "\n",
    "    hist_ksacwola = model_ksacwola.fit(X_ksacwola_train[:,1:], Y_ksacwola_train, epochs=EPOCHS, \n",
    "                                     batch_size=batch_size,sample_weight=W_ksacwola_train,\n",
    "                                     verbose=0\n",
    "                                    )\n",
    "\n",
    "    scores_ksacwola = model_ksacwola.predict(X_ksacwola_val[:,1:],batch_size=batch_size)\n",
    "    \n",
    "    fpr_ksacwola, tpr_ksacwola, _ = roc_curve(Y_ksacwola_val, scores_ksacwola)\n",
    "    ksacwola_rocs = ksacwola_rocs.append({'fpr': fpr_ksacwola, 'tpr': tpr_ksacwola}, ignore_index=True)"
   ]
  },
  {
   "cell_type": "code",
   "execution_count": 26,
   "metadata": {},
   "outputs": [
    {
     "name": "stderr",
     "output_type": "stream",
     "text": [
      "\r",
      "  0%|                                                                                           | 0/20 [00:00<?, ?it/s]"
     ]
    },
    {
     "name": "stdout",
     "output_type": "stream",
     "text": [
      "10/10 [==============================] - 0s 4ms/step\n",
      "675/675 [==============================] - 1s 1ms/step\n"
     ]
    },
    {
     "name": "stderr",
     "output_type": "stream",
     "text": [
      "C:\\Users\\bolit\\AppData\\Local\\Temp\\ipykernel_13380\\345227218.py:80: FutureWarning: The frame.append method is deprecated and will be removed from pandas in a future version. Use pandas.concat instead.\n",
      "  SALAD_rocs = SALAD_rocs.append({'fpr': fpr_SALAD, 'tpr': tpr_SALAD}, ignore_index=True)\n",
      "\r",
      "  5%|████                                                                              | 1/20 [02:56<55:56, 176.65s/it]"
     ]
    },
    {
     "name": "stdout",
     "output_type": "stream",
     "text": [
      "10/10 [==============================] - 0s 4ms/step\n",
      "675/675 [==============================] - 1s 1ms/step\n"
     ]
    },
    {
     "name": "stderr",
     "output_type": "stream",
     "text": [
      "C:\\Users\\bolit\\AppData\\Local\\Temp\\ipykernel_13380\\345227218.py:80: FutureWarning: The frame.append method is deprecated and will be removed from pandas in a future version. Use pandas.concat instead.\n",
      "  SALAD_rocs = SALAD_rocs.append({'fpr': fpr_SALAD, 'tpr': tpr_SALAD}, ignore_index=True)\n",
      "\r",
      " 10%|████████▏                                                                         | 2/20 [05:57<53:42, 179.03s/it]"
     ]
    },
    {
     "name": "stdout",
     "output_type": "stream",
     "text": [
      "10/10 [==============================] - 0s 4ms/step\n",
      "675/675 [==============================] - 1s 1ms/step\n"
     ]
    },
    {
     "name": "stderr",
     "output_type": "stream",
     "text": [
      "C:\\Users\\bolit\\AppData\\Local\\Temp\\ipykernel_13380\\345227218.py:80: FutureWarning: The frame.append method is deprecated and will be removed from pandas in a future version. Use pandas.concat instead.\n",
      "  SALAD_rocs = SALAD_rocs.append({'fpr': fpr_SALAD, 'tpr': tpr_SALAD}, ignore_index=True)\n",
      "\r",
      " 15%|████████████▎                                                                     | 3/20 [08:53<50:24, 177.89s/it]"
     ]
    },
    {
     "name": "stdout",
     "output_type": "stream",
     "text": [
      "10/10 [==============================] - 0s 4ms/step\n",
      "675/675 [==============================] - 1s 1ms/step\n"
     ]
    },
    {
     "name": "stderr",
     "output_type": "stream",
     "text": [
      "C:\\Users\\bolit\\AppData\\Local\\Temp\\ipykernel_13380\\345227218.py:80: FutureWarning: The frame.append method is deprecated and will be removed from pandas in a future version. Use pandas.concat instead.\n",
      "  SALAD_rocs = SALAD_rocs.append({'fpr': fpr_SALAD, 'tpr': tpr_SALAD}, ignore_index=True)\n",
      "\r",
      " 20%|████████████████▍                                                                 | 4/20 [11:43<46:34, 174.67s/it]"
     ]
    },
    {
     "name": "stdout",
     "output_type": "stream",
     "text": [
      "10/10 [==============================] - 0s 4ms/step\n",
      "675/675 [==============================] - 1s 1ms/step\n"
     ]
    },
    {
     "name": "stderr",
     "output_type": "stream",
     "text": [
      "C:\\Users\\bolit\\AppData\\Local\\Temp\\ipykernel_13380\\345227218.py:80: FutureWarning: The frame.append method is deprecated and will be removed from pandas in a future version. Use pandas.concat instead.\n",
      "  SALAD_rocs = SALAD_rocs.append({'fpr': fpr_SALAD, 'tpr': tpr_SALAD}, ignore_index=True)\n",
      "\r",
      " 25%|████████████████████▌                                                             | 5/20 [14:34<43:17, 173.17s/it]"
     ]
    },
    {
     "name": "stdout",
     "output_type": "stream",
     "text": [
      "10/10 [==============================] - 0s 4ms/step\n",
      "675/675 [==============================] - 1s 1ms/step\n"
     ]
    },
    {
     "name": "stderr",
     "output_type": "stream",
     "text": [
      "C:\\Users\\bolit\\AppData\\Local\\Temp\\ipykernel_13380\\345227218.py:80: FutureWarning: The frame.append method is deprecated and will be removed from pandas in a future version. Use pandas.concat instead.\n",
      "  SALAD_rocs = SALAD_rocs.append({'fpr': fpr_SALAD, 'tpr': tpr_SALAD}, ignore_index=True)\n",
      "\r",
      " 30%|████████████████████████▌                                                         | 6/20 [17:39<41:23, 177.36s/it]"
     ]
    },
    {
     "name": "stdout",
     "output_type": "stream",
     "text": [
      "10/10 [==============================] - 0s 4ms/step\n",
      "675/675 [==============================] - 1s 1ms/step\n"
     ]
    },
    {
     "name": "stderr",
     "output_type": "stream",
     "text": [
      "C:\\Users\\bolit\\AppData\\Local\\Temp\\ipykernel_13380\\345227218.py:80: FutureWarning: The frame.append method is deprecated and will be removed from pandas in a future version. Use pandas.concat instead.\n",
      "  SALAD_rocs = SALAD_rocs.append({'fpr': fpr_SALAD, 'tpr': tpr_SALAD}, ignore_index=True)\n",
      "\r",
      " 35%|████████████████████████████▋                                                     | 7/20 [20:43<38:52, 179.39s/it]"
     ]
    },
    {
     "name": "stdout",
     "output_type": "stream",
     "text": [
      "10/10 [==============================] - 0s 4ms/step\n",
      "675/675 [==============================] - 1s 1ms/step\n"
     ]
    },
    {
     "name": "stderr",
     "output_type": "stream",
     "text": [
      "C:\\Users\\bolit\\AppData\\Local\\Temp\\ipykernel_13380\\345227218.py:80: FutureWarning: The frame.append method is deprecated and will be removed from pandas in a future version. Use pandas.concat instead.\n",
      "  SALAD_rocs = SALAD_rocs.append({'fpr': fpr_SALAD, 'tpr': tpr_SALAD}, ignore_index=True)\n",
      "\r",
      " 40%|████████████████████████████████▊                                                 | 8/20 [23:44<35:59, 179.95s/it]"
     ]
    },
    {
     "name": "stdout",
     "output_type": "stream",
     "text": [
      "10/10 [==============================] - 0s 4ms/step\n",
      "675/675 [==============================] - 1s 1ms/step\n"
     ]
    },
    {
     "name": "stderr",
     "output_type": "stream",
     "text": [
      "C:\\Users\\bolit\\AppData\\Local\\Temp\\ipykernel_13380\\345227218.py:80: FutureWarning: The frame.append method is deprecated and will be removed from pandas in a future version. Use pandas.concat instead.\n",
      "  SALAD_rocs = SALAD_rocs.append({'fpr': fpr_SALAD, 'tpr': tpr_SALAD}, ignore_index=True)\n",
      "\r",
      " 45%|████████████████████████████████████▉                                             | 9/20 [26:44<32:58, 179.91s/it]"
     ]
    },
    {
     "name": "stdout",
     "output_type": "stream",
     "text": [
      "10/10 [==============================] - 0s 4ms/step\n",
      "675/675 [==============================] - 1s 1ms/step\n"
     ]
    },
    {
     "name": "stderr",
     "output_type": "stream",
     "text": [
      "C:\\Users\\bolit\\AppData\\Local\\Temp\\ipykernel_13380\\345227218.py:80: FutureWarning: The frame.append method is deprecated and will be removed from pandas in a future version. Use pandas.concat instead.\n",
      "  SALAD_rocs = SALAD_rocs.append({'fpr': fpr_SALAD, 'tpr': tpr_SALAD}, ignore_index=True)\n",
      "\r",
      " 50%|████████████████████████████████████████▌                                        | 10/20 [29:48<30:11, 181.16s/it]"
     ]
    },
    {
     "name": "stdout",
     "output_type": "stream",
     "text": [
      "10/10 [==============================] - 0s 4ms/step\n",
      "675/675 [==============================] - 1s 1ms/step\n"
     ]
    },
    {
     "name": "stderr",
     "output_type": "stream",
     "text": [
      "C:\\Users\\bolit\\AppData\\Local\\Temp\\ipykernel_13380\\345227218.py:80: FutureWarning: The frame.append method is deprecated and will be removed from pandas in a future version. Use pandas.concat instead.\n",
      "  SALAD_rocs = SALAD_rocs.append({'fpr': fpr_SALAD, 'tpr': tpr_SALAD}, ignore_index=True)\n",
      "\r",
      " 55%|████████████████████████████████████████████▌                                    | 11/20 [32:54<27:25, 182.87s/it]"
     ]
    },
    {
     "name": "stdout",
     "output_type": "stream",
     "text": [
      "10/10 [==============================] - 0s 4ms/step\n",
      "675/675 [==============================] - 1s 1ms/step\n"
     ]
    },
    {
     "name": "stderr",
     "output_type": "stream",
     "text": [
      "C:\\Users\\bolit\\AppData\\Local\\Temp\\ipykernel_13380\\345227218.py:80: FutureWarning: The frame.append method is deprecated and will be removed from pandas in a future version. Use pandas.concat instead.\n",
      "  SALAD_rocs = SALAD_rocs.append({'fpr': fpr_SALAD, 'tpr': tpr_SALAD}, ignore_index=True)\n",
      "\r",
      " 60%|████████████████████████████████████████████████▌                                | 12/20 [35:57<24:21, 182.67s/it]"
     ]
    },
    {
     "name": "stdout",
     "output_type": "stream",
     "text": [
      "10/10 [==============================] - 0s 4ms/step\n",
      "675/675 [==============================] - 1s 1ms/step\n"
     ]
    },
    {
     "name": "stderr",
     "output_type": "stream",
     "text": [
      "C:\\Users\\bolit\\AppData\\Local\\Temp\\ipykernel_13380\\345227218.py:80: FutureWarning: The frame.append method is deprecated and will be removed from pandas in a future version. Use pandas.concat instead.\n",
      "  SALAD_rocs = SALAD_rocs.append({'fpr': fpr_SALAD, 'tpr': tpr_SALAD}, ignore_index=True)\n",
      "\r",
      " 65%|████████████████████████████████████████████████████▋                            | 13/20 [38:49<20:57, 179.67s/it]"
     ]
    },
    {
     "name": "stdout",
     "output_type": "stream",
     "text": [
      "10/10 [==============================] - 0s 4ms/step\n",
      "675/675 [==============================] - 1s 1ms/step\n"
     ]
    },
    {
     "name": "stderr",
     "output_type": "stream",
     "text": [
      "C:\\Users\\bolit\\AppData\\Local\\Temp\\ipykernel_13380\\345227218.py:80: FutureWarning: The frame.append method is deprecated and will be removed from pandas in a future version. Use pandas.concat instead.\n",
      "  SALAD_rocs = SALAD_rocs.append({'fpr': fpr_SALAD, 'tpr': tpr_SALAD}, ignore_index=True)\n",
      "\r",
      " 70%|████████████████████████████████████████████████████████▋                        | 14/20 [41:43<17:47, 177.92s/it]"
     ]
    },
    {
     "name": "stdout",
     "output_type": "stream",
     "text": [
      "10/10 [==============================] - 0s 4ms/step\n",
      "675/675 [==============================] - 1s 1ms/step\n"
     ]
    },
    {
     "name": "stderr",
     "output_type": "stream",
     "text": [
      "C:\\Users\\bolit\\AppData\\Local\\Temp\\ipykernel_13380\\345227218.py:80: FutureWarning: The frame.append method is deprecated and will be removed from pandas in a future version. Use pandas.concat instead.\n",
      "  SALAD_rocs = SALAD_rocs.append({'fpr': fpr_SALAD, 'tpr': tpr_SALAD}, ignore_index=True)\n",
      "\r",
      " 75%|████████████████████████████████████████████████████████████▊                    | 15/20 [44:52<15:05, 181.09s/it]"
     ]
    },
    {
     "name": "stdout",
     "output_type": "stream",
     "text": [
      "10/10 [==============================] - 0s 4ms/step\n",
      "675/675 [==============================] - 1s 2ms/step\n"
     ]
    },
    {
     "name": "stderr",
     "output_type": "stream",
     "text": [
      "C:\\Users\\bolit\\AppData\\Local\\Temp\\ipykernel_13380\\345227218.py:80: FutureWarning: The frame.append method is deprecated and will be removed from pandas in a future version. Use pandas.concat instead.\n",
      "  SALAD_rocs = SALAD_rocs.append({'fpr': fpr_SALAD, 'tpr': tpr_SALAD}, ignore_index=True)\n",
      "\r",
      " 80%|██████████████████████████████████████████████████████████▍              | 16/20 [11:22:11<12:55:46, 11636.73s/it]"
     ]
    },
    {
     "name": "stdout",
     "output_type": "stream",
     "text": [
      "10/10 [==============================] - 0s 4ms/step\n",
      "675/675 [==============================] - 1s 1ms/step\n"
     ]
    },
    {
     "name": "stderr",
     "output_type": "stream",
     "text": [
      "C:\\Users\\bolit\\AppData\\Local\\Temp\\ipykernel_13380\\345227218.py:80: FutureWarning: The frame.append method is deprecated and will be removed from pandas in a future version. Use pandas.concat instead.\n",
      "  SALAD_rocs = SALAD_rocs.append({'fpr': fpr_SALAD, 'tpr': tpr_SALAD}, ignore_index=True)\n",
      "\r",
      " 85%|███████████████████████████████████████████████████████████████▊           | 17/20 [11:25:13<6:49:36, 8192.06s/it]"
     ]
    },
    {
     "name": "stdout",
     "output_type": "stream",
     "text": [
      "10/10 [==============================] - 0s 4ms/step\n",
      "675/675 [==============================] - 1s 1ms/step\n"
     ]
    },
    {
     "name": "stderr",
     "output_type": "stream",
     "text": [
      "C:\\Users\\bolit\\AppData\\Local\\Temp\\ipykernel_13380\\345227218.py:80: FutureWarning: The frame.append method is deprecated and will be removed from pandas in a future version. Use pandas.concat instead.\n",
      "  SALAD_rocs = SALAD_rocs.append({'fpr': fpr_SALAD, 'tpr': tpr_SALAD}, ignore_index=True)\n",
      "\r",
      " 90%|███████████████████████████████████████████████████████████████████▌       | 18/20 [11:28:05<3:12:44, 5782.36s/it]"
     ]
    },
    {
     "name": "stdout",
     "output_type": "stream",
     "text": [
      "10/10 [==============================] - 0s 4ms/step\n",
      "675/675 [==============================] - 1s 1ms/step\n"
     ]
    },
    {
     "name": "stderr",
     "output_type": "stream",
     "text": [
      "C:\\Users\\bolit\\AppData\\Local\\Temp\\ipykernel_13380\\345227218.py:80: FutureWarning: The frame.append method is deprecated and will be removed from pandas in a future version. Use pandas.concat instead.\n",
      "  SALAD_rocs = SALAD_rocs.append({'fpr': fpr_SALAD, 'tpr': tpr_SALAD}, ignore_index=True)\n",
      "\r",
      " 95%|███████████████████████████████████████████████████████████████████████▎   | 19/20 [11:30:58<1:08:17, 4097.65s/it]"
     ]
    },
    {
     "name": "stdout",
     "output_type": "stream",
     "text": [
      "10/10 [==============================] - 0s 5ms/step\n",
      "675/675 [==============================] - 1s 1ms/step\n"
     ]
    },
    {
     "name": "stderr",
     "output_type": "stream",
     "text": [
      "C:\\Users\\bolit\\AppData\\Local\\Temp\\ipykernel_13380\\345227218.py:80: FutureWarning: The frame.append method is deprecated and will be removed from pandas in a future version. Use pandas.concat instead.\n",
      "  SALAD_rocs = SALAD_rocs.append({'fpr': fpr_SALAD, 'tpr': tpr_SALAD}, ignore_index=True)\n",
      "100%|█████████████████████████████████████████████████████████████████████████████| 20/20 [11:34:15<00:00, 2082.77s/it]\n"
     ]
    }
   ],
   "source": [
    "#Next is SALAD\n",
    "SALAD_rocs = pd.DataFrame(columns=['fpr', 'tpr'])\n",
    "SB_width = 0.3\n",
    "\n",
    "for i in tqdm.tqdm(range(n_injections)):\n",
    "    SR_signal_to_inject = SR_signals_to_inject[i]\n",
    "    SB_signal_to_inject = SB_signals_to_inject[i]\n",
    "    signal_to_test = signals_to_test[i]\n",
    "    \n",
    "    n_data_sb = len(SB_background_sim) - len(SB_signal_to_inject)\n",
    "    n_data_sr = len(SR_background_sim) - len(SR_signal_to_inject)\n",
    "\n",
    "    X_SALAD_sb_train = np.concatenate([SB_background_sim, SB_background_data[np.random.choice(len(SB_background_data), n_data_sb, replace=False)], SB_signal_to_inject])\n",
    "    Y_SALAD_sb_train = np.concatenate([np.zeros(len(SB_background_sim)), np.ones(n_data_sb), np.ones(len(SB_signal_to_inject))])\n",
    "    \n",
    "    sbmjj = X_SALAD_sb_train[:,0]\n",
    "    sb_crit = ((sbmjj > SR_low - SB_width)&(sbmjj <= SR_high + SB_width))\n",
    "\n",
    "    X_SALAD_sb_train = X_SALAD_sb_train[sb_crit]\n",
    "    Y_SALAD_sb_train = Y_SALAD_sb_train[sb_crit]\n",
    "    \n",
    "    N_sb_low = (X_SALAD_sb_train[Y_SALAD_sb_train == 1][:,0] <= SR_low).sum()    \n",
    "    N_sb_high = (X_SALAD_sb_train[Y_SALAD_sb_train == 1][:,0] >= SR_high).sum()    \n",
    "    w_low = 0.5*(len(SR_signal_to_inject) + n_data_sr)/((SB_signal_to_inject[:,0] <= SR_low).sum() + N_sb_low)\n",
    "    w_high = 0.5*(len(SR_signal_to_inject) + n_data_sr)/((SB_signal_to_inject[:,0] >= SR_high).sum() + N_sb_high)\n",
    "    \n",
    "    W_SALAD_sb_train = np.ones_like(Y_SALAD_sb_train)\n",
    "    W_SALAD_sb_train[X_SALAD_sb_train[:,0]<=SR_low] *= w_low\n",
    "    W_SALAD_sb_train[X_SALAD_sb_train[:,0]>=SR_high] *= w_high\n",
    "    \n",
    "    \n",
    "    X_SALAD_sr_train = np.concatenate([SR_signal_to_inject, SR_background_sim, SR_background_data[np.random.choice(len(SR_background_data), n_data_sr, replace=False)]])\n",
    "    Y_SALAD_sr_train = np.concatenate([np.ones(len(SR_signal_to_inject)), np.zeros(len(SR_background_sim)), np.ones(n_data_sr)])\n",
    "    \n",
    "    X_SALAD_sb_train, Y_SALAD_sb_train, W_SALAD_sb_train = shuffle(X_SALAD_sb_train, Y_SALAD_sb_train, W_SALAD_sb_train)\n",
    "    X_SALAD_sr_train, Y_SALAD_sr_train = shuffle(X_SALAD_sr_train, Y_SALAD_sr_train)\n",
    "    \n",
    "    X_SALAD_val = np.concatenate([signal_to_test, SR_background_data_fortest])\n",
    "    Y_SALAD_val = np.concatenate([np.ones(len(signal_to_test)),np.zeros(len(SR_background_data_fortest))])\n",
    "    \n",
    "    K.clear_session()\n",
    "    model_SALAD_sb = Sequential()\n",
    "    model_SALAD_sb.add(Dense(64, input_dim=N_inputs + 1, activation='relu')) \n",
    "    model_SALAD_sb.add(Dense(64, activation='relu'))\n",
    "    model_SALAD_sb.add(Dense(64, activation='relu'))\n",
    "    model_SALAD_sb.add(Dense(1, activation='sigmoid'))\n",
    "    model_SALAD_sb.compile(loss='binary_crossentropy', optimizer='adam', metrics=['accuracy'],)\n",
    "\n",
    "    hist_SALAD_sb = model_SALAD_sb.fit(\n",
    "        X_SALAD_sb_train, Y_SALAD_sb_train, epochs=EPOCHS,\n",
    "        batch_size=batch_size,\n",
    "        verbose=0, sample_weight=W_SALAD_sb_train\n",
    "    )\n",
    "\n",
    "    def get_weights(data, model):\n",
    "        yhat = model.predict(data, batch_size=int(0.1*len(data)))\n",
    "        return np.squeeze(yhat/(1 - yhat))\n",
    "\n",
    "    # apply weight function\n",
    "    W_SALAD_sr_train = np.ones_like(Y_SALAD_sr_train)\n",
    "    W_SALAD_sr_train[Y_SALAD_sr_train == 0] = get_weights(X_SALAD_sr_train[Y_SALAD_sr_train == 0], model_SALAD_sb)\n",
    "\n",
    "    # run discriminating model\n",
    "    model_SALAD_sr = Sequential()\n",
    "    model_SALAD_sr.add(Dense(64, input_dim=N_inputs, activation='relu')) \n",
    "    model_SALAD_sr.add(Dense(64, activation='relu'))\n",
    "    model_SALAD_sr.add(Dense(64, activation='relu'))\n",
    "    model_SALAD_sr.add(Dense(1, activation='sigmoid'))\n",
    "    model_SALAD_sr.compile(loss='binary_crossentropy', optimizer='adam', metrics=['accuracy'])\n",
    "\n",
    "    hist_SALAD_sr = model_SALAD_sr.fit(\n",
    "        X_SALAD_sr_train[:, 1:], Y_SALAD_sr_train, epochs=EPOCHS,\n",
    "        batch_size=batch_size, verbose=0,\n",
    "        sample_weight=W_SALAD_sr_train\n",
    "    )\n",
    "\n",
    "    scores_SALAD = model_SALAD_sr.predict(X_SALAD_val[:, 1:], batch_size=batch_size)\n",
    "\n",
    "    fpr_SALAD, tpr_SALAD, _ = roc_curve(Y_SALAD_val, scores_SALAD)\n",
    "    SALAD_rocs = SALAD_rocs.append({'fpr': fpr_SALAD, 'tpr': tpr_SALAD}, ignore_index=True)"
   ]
  },
  {
   "cell_type": "code",
   "execution_count": 27,
   "metadata": {},
   "outputs": [
    {
     "name": "stderr",
     "output_type": "stream",
     "text": [
      "C:\\Users\\bolit\\AppData\\Local\\Temp\\ipykernel_13380\\1917551772.py:11: RuntimeWarning: divide by zero encountered in true_divide\n",
      "  fpr_interp = np.ma.masked_invalid(1./np.array(fpr_interp))\n",
      "C:\\Users\\bolit\\anaconda3\\lib\\site-packages\\numpy\\core\\fromnumeric.py:755: UserWarning: Warning: 'partition' will ignore the 'mask' of the MaskedArray.\n",
      "  a.partition(kth, axis=axis, kind=kind, order=order)\n",
      "C:\\Users\\bolit\\AppData\\Local\\Temp\\ipykernel_13380\\1917551772.py:33: RuntimeWarning: divide by zero encountered in true_divide\n",
      "  fpr_interp = np.ma.masked_invalid(1./np.array(fpr_interp))\n"
     ]
    }
   ],
   "source": [
    "# k-SA-CWoLa\n",
    "fpr_interp = [None] * len(ksacwola_rocs)\n",
    "\n",
    "for i, row in ksacwola_rocs.iterrows():\n",
    "    fpr, tpr = row\n",
    "    interp = interpolate.interp1d(tpr, fpr, fill_value=float('nan'), bounds_error=False, assume_sorted=True)\n",
    "\n",
    "    fpr_pts = interp(tpr_pts)\n",
    "    fpr_interp[i] = fpr_pts\n",
    "\n",
    "fpr_interp = np.ma.masked_invalid(1./np.array(fpr_interp))\n",
    "\n",
    "ksacwola_max = np.nanmax(fpr_interp, axis=0).data\n",
    "ksacwola_min = np.nanmin(fpr_interp, axis=0).data\n",
    "ksacwola_med = np.median(fpr_interp, axis=0).data\n",
    "ksacwola_mean = np.nanmean(fpr_interp, axis=0).data\n",
    "ksacwola_std = np.nanstd(fpr_interp, axis=0).data\n",
    "    \n",
    "sig_interp = np.ma.masked_invalid(np.sqrt(fpr_interp))\n",
    "    \n",
    "ksacwola_smean = np.nanmean(sig_interp, axis=0).data\n",
    "ksacwola_sstd = np.nanstd(sig_interp, axis=0).data\n",
    "    \n",
    "fpr_interp = [None] * len(SALAD_rocs)\n",
    "\n",
    "for i, row in SALAD_rocs.iterrows():\n",
    "    fpr, tpr = row\n",
    "    interp = interpolate.interp1d(tpr, fpr, fill_value=float('nan'), bounds_error=False, assume_sorted=True)\n",
    "\n",
    "    fpr_pts = interp(tpr_pts)\n",
    "    fpr_interp[i] = fpr_pts\n",
    "\n",
    "fpr_interp = np.ma.masked_invalid(1./np.array(fpr_interp))\n",
    "\n",
    "SALAD_max = np.nanmax(fpr_interp, axis=0).data\n",
    "SALAD_min = np.nanmin(fpr_interp, axis=0).data\n",
    "SALAD_med = np.median(fpr_interp, axis=0).data\n",
    "SALAD_mean = np.nanmean(fpr_interp, axis=0).data\n",
    "SALAD_std = np.nanstd(fpr_interp, axis=0).data\n",
    " \n",
    "sig_interp = np.ma.masked_invalid(np.sqrt(fpr_interp))\n",
    "    \n",
    "SALAD_smean = np.nanmean(sig_interp, axis=0).data\n",
    "SALAD_sstd = np.nanstd(sig_interp, axis=0).data"
   ]
  },
  {
   "cell_type": "code",
   "execution_count": 28,
   "metadata": {},
   "outputs": [
    {
     "name": "stderr",
     "output_type": "stream",
     "text": [
      "\r",
      "  0%|                                                                                           | 0/20 [00:00<?, ?it/s]"
     ]
    },
    {
     "name": "stdout",
     "output_type": "stream",
     "text": [
      "INFO:tensorflow:Assets written to: models/autoencoder/model_0\\assets\n"
     ]
    },
    {
     "name": "stderr",
     "output_type": "stream",
     "text": [
      "C:\\Users\\bolit\\AppData\\Local\\Temp\\ipykernel_13380\\1320818217.py:40: FutureWarning: The frame.append method is deprecated and will be removed from pandas in a future version. Use pandas.concat instead.\n",
      "  ae_rocs = ae_rocs.append({'fpr': fpr_ae, 'tpr': tpr_ae}, ignore_index=True)\n",
      "\r",
      "  5%|████▏                                                                              | 1/20 [00:12<04:06, 12.99s/it]"
     ]
    },
    {
     "name": "stdout",
     "output_type": "stream",
     "text": [
      "INFO:tensorflow:Assets written to: models/autoencoder/model_1\\assets\n"
     ]
    },
    {
     "name": "stderr",
     "output_type": "stream",
     "text": [
      "C:\\Users\\bolit\\AppData\\Local\\Temp\\ipykernel_13380\\1320818217.py:40: FutureWarning: The frame.append method is deprecated and will be removed from pandas in a future version. Use pandas.concat instead.\n",
      "  ae_rocs = ae_rocs.append({'fpr': fpr_ae, 'tpr': tpr_ae}, ignore_index=True)\n",
      "\r",
      " 10%|████████▎                                                                          | 2/20 [00:25<03:50, 12.82s/it]"
     ]
    },
    {
     "name": "stdout",
     "output_type": "stream",
     "text": [
      "INFO:tensorflow:Assets written to: models/autoencoder/model_2\\assets\n"
     ]
    },
    {
     "name": "stderr",
     "output_type": "stream",
     "text": [
      "C:\\Users\\bolit\\AppData\\Local\\Temp\\ipykernel_13380\\1320818217.py:40: FutureWarning: The frame.append method is deprecated and will be removed from pandas in a future version. Use pandas.concat instead.\n",
      "  ae_rocs = ae_rocs.append({'fpr': fpr_ae, 'tpr': tpr_ae}, ignore_index=True)\n",
      "\r",
      " 15%|████████████▍                                                                      | 3/20 [00:38<03:34, 12.63s/it]"
     ]
    },
    {
     "name": "stdout",
     "output_type": "stream",
     "text": [
      "INFO:tensorflow:Assets written to: models/autoencoder/model_3\\assets\n"
     ]
    },
    {
     "name": "stderr",
     "output_type": "stream",
     "text": [
      "C:\\Users\\bolit\\AppData\\Local\\Temp\\ipykernel_13380\\1320818217.py:40: FutureWarning: The frame.append method is deprecated and will be removed from pandas in a future version. Use pandas.concat instead.\n",
      "  ae_rocs = ae_rocs.append({'fpr': fpr_ae, 'tpr': tpr_ae}, ignore_index=True)\n",
      "\r",
      " 20%|████████████████▌                                                                  | 4/20 [00:51<03:25, 12.86s/it]"
     ]
    },
    {
     "name": "stdout",
     "output_type": "stream",
     "text": [
      "INFO:tensorflow:Assets written to: models/autoencoder/model_4\\assets\n"
     ]
    },
    {
     "name": "stderr",
     "output_type": "stream",
     "text": [
      "C:\\Users\\bolit\\AppData\\Local\\Temp\\ipykernel_13380\\1320818217.py:40: FutureWarning: The frame.append method is deprecated and will be removed from pandas in a future version. Use pandas.concat instead.\n",
      "  ae_rocs = ae_rocs.append({'fpr': fpr_ae, 'tpr': tpr_ae}, ignore_index=True)\n",
      "\r",
      " 25%|████████████████████▊                                                              | 5/20 [01:04<03:13, 12.92s/it]"
     ]
    },
    {
     "name": "stdout",
     "output_type": "stream",
     "text": [
      "INFO:tensorflow:Assets written to: models/autoencoder/model_5\\assets\n"
     ]
    },
    {
     "name": "stderr",
     "output_type": "stream",
     "text": [
      "C:\\Users\\bolit\\AppData\\Local\\Temp\\ipykernel_13380\\1320818217.py:40: FutureWarning: The frame.append method is deprecated and will be removed from pandas in a future version. Use pandas.concat instead.\n",
      "  ae_rocs = ae_rocs.append({'fpr': fpr_ae, 'tpr': tpr_ae}, ignore_index=True)\n",
      "\r",
      " 30%|████████████████████████▉                                                          | 6/20 [01:17<03:02, 13.03s/it]"
     ]
    },
    {
     "name": "stdout",
     "output_type": "stream",
     "text": [
      "INFO:tensorflow:Assets written to: models/autoencoder/model_6\\assets\n"
     ]
    },
    {
     "name": "stderr",
     "output_type": "stream",
     "text": [
      "C:\\Users\\bolit\\AppData\\Local\\Temp\\ipykernel_13380\\1320818217.py:40: FutureWarning: The frame.append method is deprecated and will be removed from pandas in a future version. Use pandas.concat instead.\n",
      "  ae_rocs = ae_rocs.append({'fpr': fpr_ae, 'tpr': tpr_ae}, ignore_index=True)\n",
      "\r",
      " 35%|█████████████████████████████                                                      | 7/20 [01:30<02:49, 13.06s/it]"
     ]
    },
    {
     "name": "stdout",
     "output_type": "stream",
     "text": [
      "INFO:tensorflow:Assets written to: models/autoencoder/model_7\\assets\n"
     ]
    },
    {
     "name": "stderr",
     "output_type": "stream",
     "text": [
      "C:\\Users\\bolit\\AppData\\Local\\Temp\\ipykernel_13380\\1320818217.py:40: FutureWarning: The frame.append method is deprecated and will be removed from pandas in a future version. Use pandas.concat instead.\n",
      "  ae_rocs = ae_rocs.append({'fpr': fpr_ae, 'tpr': tpr_ae}, ignore_index=True)\n",
      "\r",
      " 40%|█████████████████████████████████▏                                                 | 8/20 [01:44<02:38, 13.17s/it]"
     ]
    },
    {
     "name": "stdout",
     "output_type": "stream",
     "text": [
      "INFO:tensorflow:Assets written to: models/autoencoder/model_8\\assets\n"
     ]
    },
    {
     "name": "stderr",
     "output_type": "stream",
     "text": [
      "C:\\Users\\bolit\\AppData\\Local\\Temp\\ipykernel_13380\\1320818217.py:40: FutureWarning: The frame.append method is deprecated and will be removed from pandas in a future version. Use pandas.concat instead.\n",
      "  ae_rocs = ae_rocs.append({'fpr': fpr_ae, 'tpr': tpr_ae}, ignore_index=True)\n",
      "\r",
      " 45%|█████████████████████████████████████▎                                             | 9/20 [01:57<02:24, 13.16s/it]"
     ]
    },
    {
     "name": "stdout",
     "output_type": "stream",
     "text": [
      "INFO:tensorflow:Assets written to: models/autoencoder/model_9\\assets\n"
     ]
    },
    {
     "name": "stderr",
     "output_type": "stream",
     "text": [
      "C:\\Users\\bolit\\AppData\\Local\\Temp\\ipykernel_13380\\1320818217.py:40: FutureWarning: The frame.append method is deprecated and will be removed from pandas in a future version. Use pandas.concat instead.\n",
      "  ae_rocs = ae_rocs.append({'fpr': fpr_ae, 'tpr': tpr_ae}, ignore_index=True)\n",
      "\r",
      " 50%|█████████████████████████████████████████                                         | 10/20 [02:10<02:12, 13.21s/it]"
     ]
    },
    {
     "name": "stdout",
     "output_type": "stream",
     "text": [
      "INFO:tensorflow:Assets written to: models/autoencoder/model_10\\assets\n"
     ]
    },
    {
     "name": "stderr",
     "output_type": "stream",
     "text": [
      "C:\\Users\\bolit\\AppData\\Local\\Temp\\ipykernel_13380\\1320818217.py:40: FutureWarning: The frame.append method is deprecated and will be removed from pandas in a future version. Use pandas.concat instead.\n",
      "  ae_rocs = ae_rocs.append({'fpr': fpr_ae, 'tpr': tpr_ae}, ignore_index=True)\n",
      "\r",
      " 55%|█████████████████████████████████████████████                                     | 11/20 [02:23<01:58, 13.14s/it]"
     ]
    },
    {
     "name": "stdout",
     "output_type": "stream",
     "text": [
      "INFO:tensorflow:Assets written to: models/autoencoder/model_11\\assets\n"
     ]
    },
    {
     "name": "stderr",
     "output_type": "stream",
     "text": [
      "C:\\Users\\bolit\\AppData\\Local\\Temp\\ipykernel_13380\\1320818217.py:40: FutureWarning: The frame.append method is deprecated and will be removed from pandas in a future version. Use pandas.concat instead.\n",
      "  ae_rocs = ae_rocs.append({'fpr': fpr_ae, 'tpr': tpr_ae}, ignore_index=True)\n",
      "\r",
      " 60%|█████████████████████████████████████████████████▏                                | 12/20 [02:36<01:45, 13.18s/it]"
     ]
    },
    {
     "name": "stdout",
     "output_type": "stream",
     "text": [
      "INFO:tensorflow:Assets written to: models/autoencoder/model_12\\assets\n"
     ]
    },
    {
     "name": "stderr",
     "output_type": "stream",
     "text": [
      "C:\\Users\\bolit\\AppData\\Local\\Temp\\ipykernel_13380\\1320818217.py:40: FutureWarning: The frame.append method is deprecated and will be removed from pandas in a future version. Use pandas.concat instead.\n",
      "  ae_rocs = ae_rocs.append({'fpr': fpr_ae, 'tpr': tpr_ae}, ignore_index=True)\n",
      "\r",
      " 65%|█████████████████████████████████████████████████████▎                            | 13/20 [02:49<01:31, 13.11s/it]"
     ]
    },
    {
     "name": "stdout",
     "output_type": "stream",
     "text": [
      "INFO:tensorflow:Assets written to: models/autoencoder/model_13\\assets\n"
     ]
    },
    {
     "name": "stderr",
     "output_type": "stream",
     "text": [
      "C:\\Users\\bolit\\AppData\\Local\\Temp\\ipykernel_13380\\1320818217.py:40: FutureWarning: The frame.append method is deprecated and will be removed from pandas in a future version. Use pandas.concat instead.\n",
      "  ae_rocs = ae_rocs.append({'fpr': fpr_ae, 'tpr': tpr_ae}, ignore_index=True)\n",
      "\r",
      " 70%|█████████████████████████████████████████████████████████▍                        | 14/20 [03:03<01:19, 13.23s/it]"
     ]
    },
    {
     "name": "stdout",
     "output_type": "stream",
     "text": [
      "INFO:tensorflow:Assets written to: models/autoencoder/model_14\\assets\n"
     ]
    },
    {
     "name": "stderr",
     "output_type": "stream",
     "text": [
      "C:\\Users\\bolit\\AppData\\Local\\Temp\\ipykernel_13380\\1320818217.py:40: FutureWarning: The frame.append method is deprecated and will be removed from pandas in a future version. Use pandas.concat instead.\n",
      "  ae_rocs = ae_rocs.append({'fpr': fpr_ae, 'tpr': tpr_ae}, ignore_index=True)\n",
      "\r",
      " 75%|█████████████████████████████████████████████████████████████▌                    | 15/20 [03:15<01:04, 12.96s/it]"
     ]
    },
    {
     "name": "stdout",
     "output_type": "stream",
     "text": [
      "INFO:tensorflow:Assets written to: models/autoencoder/model_15\\assets\n"
     ]
    },
    {
     "name": "stderr",
     "output_type": "stream",
     "text": [
      "C:\\Users\\bolit\\AppData\\Local\\Temp\\ipykernel_13380\\1320818217.py:40: FutureWarning: The frame.append method is deprecated and will be removed from pandas in a future version. Use pandas.concat instead.\n",
      "  ae_rocs = ae_rocs.append({'fpr': fpr_ae, 'tpr': tpr_ae}, ignore_index=True)\n",
      "\r",
      " 80%|█████████████████████████████████████████████████████████████████▌                | 16/20 [03:28<00:51, 12.80s/it]"
     ]
    },
    {
     "name": "stdout",
     "output_type": "stream",
     "text": [
      "INFO:tensorflow:Assets written to: models/autoencoder/model_16\\assets\n"
     ]
    },
    {
     "name": "stderr",
     "output_type": "stream",
     "text": [
      "C:\\Users\\bolit\\AppData\\Local\\Temp\\ipykernel_13380\\1320818217.py:40: FutureWarning: The frame.append method is deprecated and will be removed from pandas in a future version. Use pandas.concat instead.\n",
      "  ae_rocs = ae_rocs.append({'fpr': fpr_ae, 'tpr': tpr_ae}, ignore_index=True)\n",
      "\r",
      " 85%|█████████████████████████████████████████████████████████████████████▋            | 17/20 [03:40<00:37, 12.61s/it]"
     ]
    },
    {
     "name": "stdout",
     "output_type": "stream",
     "text": [
      "INFO:tensorflow:Assets written to: models/autoencoder/model_17\\assets\n"
     ]
    },
    {
     "name": "stderr",
     "output_type": "stream",
     "text": [
      "C:\\Users\\bolit\\AppData\\Local\\Temp\\ipykernel_13380\\1320818217.py:40: FutureWarning: The frame.append method is deprecated and will be removed from pandas in a future version. Use pandas.concat instead.\n",
      "  ae_rocs = ae_rocs.append({'fpr': fpr_ae, 'tpr': tpr_ae}, ignore_index=True)\n",
      "\r",
      " 90%|█████████████████████████████████████████████████████████████████████████▊        | 18/20 [03:52<00:25, 12.55s/it]"
     ]
    },
    {
     "name": "stdout",
     "output_type": "stream",
     "text": [
      "INFO:tensorflow:Assets written to: models/autoencoder/model_18\\assets\n"
     ]
    },
    {
     "name": "stderr",
     "output_type": "stream",
     "text": [
      "C:\\Users\\bolit\\AppData\\Local\\Temp\\ipykernel_13380\\1320818217.py:40: FutureWarning: The frame.append method is deprecated and will be removed from pandas in a future version. Use pandas.concat instead.\n",
      "  ae_rocs = ae_rocs.append({'fpr': fpr_ae, 'tpr': tpr_ae}, ignore_index=True)\n",
      "\r",
      " 95%|█████████████████████████████████████████████████████████████████████████████▉    | 19/20 [04:04<00:12, 12.42s/it]"
     ]
    },
    {
     "name": "stdout",
     "output_type": "stream",
     "text": [
      "INFO:tensorflow:Assets written to: models/autoencoder/model_19\\assets\n"
     ]
    },
    {
     "name": "stderr",
     "output_type": "stream",
     "text": [
      "C:\\Users\\bolit\\AppData\\Local\\Temp\\ipykernel_13380\\1320818217.py:40: FutureWarning: The frame.append method is deprecated and will be removed from pandas in a future version. Use pandas.concat instead.\n",
      "  ae_rocs = ae_rocs.append({'fpr': fpr_ae, 'tpr': tpr_ae}, ignore_index=True)\n",
      "100%|██████████████████████████████████████████████████████████████████████████████████| 20/20 [04:16<00:00, 12.85s/it]\n"
     ]
    }
   ],
   "source": [
    "# Autoencoder\n",
    "dataset_bg_inSR = dataset_bg[sr_crit(dataset_bg)]\n",
    "dataset_sig_inSR = dataset_sig[sr_crit(dataset_sig)]\n",
    "ae_rocs = pd.DataFrame(columns=['fpr', 'tpr'])\n",
    "\n",
    "for i in tqdm.tqdm(range(n_injections)):\n",
    "    \n",
    "    X_ae_train = dataset_bg_inSR[0:int(0.5*len(dataset_bg_inSR)),1:]\n",
    "    X_ae_val = np.concatenate([dataset_bg_inSR[int(0.5*len(dataset_bg_inSR)):, 1:],\n",
    "                               dataset_sig_inSR[:, 1:]])\n",
    "    Y_ae_val = np.concatenate([np.zeros(len(dataset_bg_inSR[int(0.5*len(dataset_bg_inSR)):, 1:])),\n",
    "                               np.ones(len(dataset_sig_inSR[:, 1:]))])\n",
    "    \n",
    "    model_ae = Sequential()\n",
    "    model_ae.add(Dense(64, input_dim=4, activation='relu'))\n",
    "    #model_ae.add(Dense(64, activation='relu'))\n",
    "    model_ae.add(Dense(2, activation='relu'))\n",
    "    model_ae.add(Dense(64, activation='relu'))\n",
    "    #model_ae.add(Dense(64, activation='relu'))\n",
    "    model_ae.add(Dense(4, activation='linear'))\n",
    "    model_ae.compile(loss='mse', optimizer='adam', metrics=['accuracy'])\n",
    "    hist_ae = model_ae.fit(X_ae_train, X_ae_train, epochs=EPOCHS, \n",
    "                           batch_size=batch_size, verbose=0)  \n",
    "    \n",
    "    ae_save_folder = 'models/autoencoder/'\n",
    "    if not os.path.exists(ae_save_folder):\n",
    "        os.makedirs(ae_save_folder)\n",
    "    model_ae.save('models/autoencoder/model_%i'%i)\n",
    "    \n",
    "    scores_ae = model_ae.predict(X_ae_val,batch_size=batch_size,verbose=0)\n",
    "    mses_ae = np.linalg.norm(scores_ae-X_ae_val,axis=1)\n",
    "    \n",
    "    if (False):\n",
    "        plt.hist(mses_ae[Y_sup_train==0],bins=np.linspace(0,1,20),alpha=0.5,label=\"Background\",density=True)\n",
    "        plt.hist(mses_ae[Y_sup_train==1],bins=np.linspace(0,1,20),alpha=0.5,label=\"Signal\",density=True)\n",
    "        plt.xlabel(\"MSE\")\n",
    "        plt.legend(frameon=False)\n",
    "        \n",
    "    fpr_ae, tpr_ae, _ = roc_curve(Y_ae_val, mses_ae)\n",
    "    ae_rocs = ae_rocs.append({'fpr': fpr_ae, 'tpr': tpr_ae}, ignore_index=True)"
   ]
  },
  {
   "cell_type": "code",
   "execution_count": 29,
   "metadata": {},
   "outputs": [
    {
     "name": "stderr",
     "output_type": "stream",
     "text": [
      "C:\\Users\\bolit\\AppData\\Local\\Temp\\ipykernel_13380\\2450094283.py:11: RuntimeWarning: divide by zero encountered in true_divide\n",
      "  fpr_interp = np.ma.masked_invalid(1./np.array(fpr_interp))\n",
      "C:\\Users\\bolit\\anaconda3\\lib\\site-packages\\numpy\\core\\fromnumeric.py:755: UserWarning: Warning: 'partition' will ignore the 'mask' of the MaskedArray.\n",
      "  a.partition(kth, axis=axis, kind=kind, order=order)\n"
     ]
    }
   ],
   "source": [
    "# autoencoder\n",
    "fpr_interp = [None] * len(ae_rocs)\n",
    "    \n",
    "for i, row in ae_rocs.iterrows():\n",
    "    fpr, tpr = row\n",
    "    interp = interpolate.interp1d(tpr, fpr, fill_value=float('nan'), bounds_error=False, assume_sorted=True)\n",
    "\n",
    "    fpr_pts = interp(tpr_pts)\n",
    "    fpr_interp[i] = fpr_pts\n",
    "\n",
    "fpr_interp = np.ma.masked_invalid(1./np.array(fpr_interp))\n",
    "\n",
    "ae_max = np.nanmax(fpr_interp, axis=0).data\n",
    "ae_min = np.nanmin(fpr_interp, axis=0).data\n",
    "ae_med = np.median(fpr_interp, axis=0).data\n",
    "ae_mean = np.nanmean(fpr_interp, axis=0).data\n",
    "ae_std = np.nanstd(fpr_interp, axis=0).data\n",
    "    \n",
    "sig_interp = np.ma.masked_invalid(np.sqrt(fpr_interp))\n",
    "    \n",
    "ae_smean = np.nanmean(sig_interp, axis=0).data\n",
    "ae_sstd = np.nanstd(sig_interp, axis=0).data"
   ]
  },
  {
   "cell_type": "code",
   "execution_count": 30,
   "metadata": {},
   "outputs": [
    {
     "name": "stdout",
     "output_type": "stream",
     "text": [
      "Epoch 1/20\n",
      "492/492 [==============================] - 2s 2ms/step - loss: 0.3614 - accuracy: 0.8466\n",
      "Epoch 2/20\n",
      "492/492 [==============================] - 1s 2ms/step - loss: 0.3148 - accuracy: 0.8743\n",
      "Epoch 3/20\n",
      "492/492 [==============================] - 1s 2ms/step - loss: 0.2992 - accuracy: 0.8817\n",
      "Epoch 4/20\n",
      "492/492 [==============================] - 1s 2ms/step - loss: 0.2919 - accuracy: 0.8849\n",
      "Epoch 5/20\n",
      "492/492 [==============================] - 1s 2ms/step - loss: 0.2838 - accuracy: 0.8891\n",
      "Epoch 6/20\n",
      "492/492 [==============================] - 1s 2ms/step - loss: 0.2737 - accuracy: 0.8938\n",
      "Epoch 7/20\n",
      "492/492 [==============================] - 1s 2ms/step - loss: 0.2650 - accuracy: 0.8983\n",
      "Epoch 8/20\n",
      "492/492 [==============================] - 1s 2ms/step - loss: 0.2560 - accuracy: 0.9025\n",
      "Epoch 9/20\n",
      "492/492 [==============================] - 1s 2ms/step - loss: 0.2493 - accuracy: 0.9052\n",
      "Epoch 10/20\n",
      "492/492 [==============================] - 1s 2ms/step - loss: 0.2468 - accuracy: 0.9054\n",
      "Epoch 11/20\n",
      "492/492 [==============================] - 1s 2ms/step - loss: 0.2413 - accuracy: 0.9076\n",
      "Epoch 12/20\n",
      "492/492 [==============================] - 1s 2ms/step - loss: 0.2387 - accuracy: 0.9082\n",
      "Epoch 13/20\n",
      "492/492 [==============================] - 1s 2ms/step - loss: 0.2366 - accuracy: 0.9088\n",
      "Epoch 14/20\n",
      "492/492 [==============================] - 1s 2ms/step - loss: 0.2348 - accuracy: 0.9096\n",
      "Epoch 15/20\n",
      "492/492 [==============================] - 1s 2ms/step - loss: 0.2338 - accuracy: 0.9099\n",
      "Epoch 16/20\n",
      "492/492 [==============================] - 1s 2ms/step - loss: 0.2331 - accuracy: 0.9099\n",
      "Epoch 17/20\n",
      "492/492 [==============================] - 1s 2ms/step - loss: 0.2319 - accuracy: 0.9104\n",
      "Epoch 18/20\n",
      "492/492 [==============================] - 1s 2ms/step - loss: 0.2323 - accuracy: 0.9100\n",
      "Epoch 19/20\n",
      "492/492 [==============================] - 1s 2ms/step - loss: 0.2308 - accuracy: 0.9100\n",
      "Epoch 20/20\n",
      "492/492 [==============================] - 1s 2ms/step - loss: 0.2304 - accuracy: 0.9110\n"
     ]
    }
   ],
   "source": [
    "#First, let's do fully supervised\n",
    "\n",
    "Nsig_each = int(len(SR_signal)/2)\n",
    "\n",
    "SR_sig_draw = np.random.permutation(SR_signal)\n",
    "X_sup_train = np.concatenate([SR_sig_draw[:Nsig_each,1:],SR_background_data[:,1:]])\n",
    "Y_sup_train = np.concatenate([np.ones(len(SR_sig_draw[:Nsig_each,1:])),np.zeros(len(SR_background_data))])\n",
    "\n",
    "X_sup_val = np.concatenate([SR_sig_draw[Nsig_each:,1:],SR_background_data_fortest[:,1:]])\n",
    "Y_sup_val = np.concatenate([np.ones(len(SR_sig_draw[Nsig_each:,1:])),np.zeros(len(SR_background_data_fortest))])\n",
    "\n",
    "model_sup = Sequential()\n",
    "model_sup.add(Dense(64, input_dim=N_inputs, activation='relu')) \n",
    "model_sup.add(Dense(64, activation='relu'))\n",
    "model_sup.add(Dense(64, activation='relu'))\n",
    "model_sup.add(Dense(1, activation='sigmoid'))\n",
    "model_sup.compile(loss='binary_crossentropy', optimizer='adam', metrics=['accuracy'])\n",
    "\n",
    "hist_sup = model_sup.fit(X_sup_train, Y_sup_train, epochs=EPOCHS, batch_size=batch_size, verbose=1)\n",
    "\n",
    "scores_sup = model_sup.predict(X_sup_val,batch_size=batch_size,verbose=0)\n",
    "fpr_sup, tpr_sup, _ = roc_curve(Y_sup_val, scores_sup)"
   ]
  },
  {
   "cell_type": "code",
   "execution_count": null,
   "metadata": {},
   "outputs": [],
   "source": []
  },
  {
   "cell_type": "code",
   "execution_count": 33,
   "metadata": {},
   "outputs": [],
   "source": [
    "def load_data (path, name='dataset', train=None, test=None, signal=None, background=None, sample=None, seed=21, replace=True):\n",
    "    \"\"\"\n",
    "    General script to load data, common to all run scripts.\n",
    "\n",
    "    Arguments:\n",
    "        path: The path to the HDF5 file, from which data should be loaded.\n",
    "        name: Name of the dataset, as stored in the HDF5 file.\n",
    "        ...\n",
    "\n",
    "    Returns:\n",
    "        Tuple of pandas.DataFrame containing the loaded; list of loaded features\n",
    "        to be used for training; and list of features to be used for mass-\n",
    "        decorrelation.\n",
    "\n",
    "    Raises:\n",
    "        IOError: If no HDF5 file exists at the specified `path`.\n",
    "        KeyError: If the HDF5 does not contained a dataset named `name`.\n",
    "        KeyError: If any of the necessary features are not present in the loaded\n",
    "            dataset.\n",
    "    \"\"\"\n",
    "\n",
    "    # Check(s)\n",
    "    #assert False not in [train, test, signal, background]\n",
    "    #if sample: assert 0 < sample and sample < 1.\n",
    "\n",
    "    # Read data from HDF5 file\n",
    "    data = pd.read_hdf(path)\n",
    "\n",
    "    # Subsample signal by x10 for testing: 1E+07 -> 1E+06\n",
    "    np.random.seed(7)\n",
    "    try:\n",
    "        msk_test  = data['train'] == 0\n",
    "        msk_train = ~msk_test\n",
    "        msk_bkg = data['signal'] == 0\n",
    "        msk_sig = ~msk_bkg\n",
    "        #idx_sig = np.where(msk_sig)[0]\n",
    "        #idx_sig = np.random.choice(idx_sig, int(msk_sig.sum() * 0.1), replace=False)\n",
    "        #msk_sig = np.zeros_like(msk_bkg).astype(bool)\n",
    "        #msk_sig[idx_sig] = True\n",
    "        #data = data[msk_train | (msk_test & (msk_sig | msk_bkg))]\n",
    "    except:\n",
    "        log.warning(\"Some of the keys ['train', 'signal'] were not present in file {}\".format(path))\n",
    "        pass\n",
    "\n",
    "\n",
    "\n",
    "    # Define feature collections to use\n",
    "    features_input = ['Tau21pJ1', 'Tau21J2', 'Tau32J1', 'Tau32J2']\n",
    "    features_decorrelation = ['m']\n",
    "\n",
    "    # Split data\n",
    "    if train:\n",
    "        log.info(\"load_data: Selecting only training data.\")\n",
    "        data = data[data['train']  == 1]\n",
    "        pass\n",
    "\n",
    "    if test:\n",
    "        # log.info(\"load_data: Selecting only testing data.\")\n",
    "        data = data[data['train']  == 0]\n",
    "        pass\n",
    "\n",
    "    if signal:\n",
    "        log.info(\"load_data: Selecting only signal data.\")\n",
    "        data = data[data['signal'] == 1]\n",
    "        pass\n",
    "\n",
    "    if background:\n",
    "        log.info(\"load_data: Selecting only background data.\")\n",
    "        data = data[data['signal'] == 0]\n",
    "        pass\n",
    "\n",
    "    if sample:\n",
    "        log.info(\"load_data: Selecting a random fraction {:.2f} of data (replace = {}, seed = {}).\".format(sample, replace, seed))\n",
    "        data = data.sample(frac=sample, random_state=seed, replace=False)\n",
    "        pass\n",
    "\n",
    "    # Return\n",
    "    return data, features_input, features_decorrelation\n"
   ]
  },
  {
   "cell_type": "code",
   "execution_count": 32,
   "metadata": {},
   "outputs": [],
   "source": [
    "def load (basedir, name, model=None):\n",
    "\n",
    "    # Import(s)\n",
    "    from keras.models import load_model\n",
    "\n",
    "    # Load full pre-trained model or model weights\n",
    "    if model is None:\n",
    "        model = load_model(basedir + '{}.h5'.format(name))\n",
    "    else:\n",
    "        model.load_weights(basedir + '{}_weights.h5'.format(name))\n",
    "        pass\n",
    "\n",
    "    # Load associated training histories\n",
    "    try:\n",
    "        history_file = basedir + 'history__{}.json'.format(name)\n",
    "        with open(history_file, 'r') as f:\n",
    "            history = json.load(f)\n",
    "            pass\n",
    "    except:\n",
    "        print (\"[WARN] Could not find history file {}.\") #\n",
    "        history = None\n",
    "        pass\n",
    "\n",
    "    return model, history"
   ]
  },
  {
   "cell_type": "code",
   "execution_count": 31,
   "metadata": {},
   "outputs": [
    {
     "ename": "FileNotFoundError",
     "evalue": "File /Users/bolit/OneDrive/Documentos/Tec/7_semestre/investigacion/CWoLa_ANN_Analysis/DataF.h5 does not exist",
     "output_type": "error",
     "traceback": [
      "\u001b[1;31m---------------------------------------------------------------------------\u001b[0m",
      "\u001b[1;31mFileNotFoundError\u001b[0m                         Traceback (most recent call last)",
      "Input \u001b[1;32mIn [31]\u001b[0m, in \u001b[0;36m<cell line: 9>\u001b[1;34m()\u001b[0m\n\u001b[0;32m      3\u001b[0m basedir \u001b[38;5;241m=\u001b[39m \u001b[38;5;124m'\u001b[39m\u001b[38;5;124m/Users/bolit/OneDrive/Documentos/Tec/7_semestre/investigacion/CWoLa_ANN_Analysis/hybrid_method/output\u001b[39m\u001b[38;5;124m'\u001b[39m\n\u001b[0;32m      5\u001b[0m ann_rocs \u001b[38;5;241m=\u001b[39m pd\u001b[38;5;241m.\u001b[39mDataFrame(columns\u001b[38;5;241m=\u001b[39m[\u001b[38;5;124m'\u001b[39m\u001b[38;5;124mfpr\u001b[39m\u001b[38;5;124m'\u001b[39m, \u001b[38;5;124m'\u001b[39m\u001b[38;5;124mtpr\u001b[39m\u001b[38;5;124m'\u001b[39m])\n\u001b[1;32m----> 9\u001b[0m data, features, features_decorrelation \u001b[38;5;241m=\u001b[39m \u001b[43mload_data\u001b[49m\u001b[43m(\u001b[49m\u001b[38;5;124;43m'\u001b[39;49m\u001b[38;5;124;43m/Users/bolit/OneDrive/Documentos/Tec/7_semestre/investigacion/CWoLa_ANN_Analysis/DataF.h5\u001b[39;49m\u001b[38;5;124;43m'\u001b[39;49m\u001b[43m,\u001b[49m\u001b[43m \u001b[49m\u001b[43mtest\u001b[49m\u001b[38;5;241;43m=\u001b[39;49m\u001b[38;5;28;43;01mTrue\u001b[39;49;00m\u001b[43m)\u001b[49m\n\u001b[0;32m     11\u001b[0m \u001b[38;5;66;03m# Prepare arrays\u001b[39;00m\n\u001b[0;32m     12\u001b[0m X \u001b[38;5;241m=\u001b[39m data[features]\u001b[38;5;241m.\u001b[39mvalues\n",
      "Input \u001b[1;32mIn [14]\u001b[0m, in \u001b[0;36mload_data\u001b[1;34m(path, name, train, test, signal, background, sample, seed, replace)\u001b[0m\n\u001b[0;32m      2\u001b[0m \u001b[38;5;124;03m\"\"\"\u001b[39;00m\n\u001b[0;32m      3\u001b[0m \u001b[38;5;124;03mGeneral script to load data, common to all run scripts.\u001b[39;00m\n\u001b[0;32m      4\u001b[0m \n\u001b[1;32m   (...)\u001b[0m\n\u001b[0;32m     19\u001b[0m \u001b[38;5;124;03m        dataset.\u001b[39;00m\n\u001b[0;32m     20\u001b[0m \u001b[38;5;124;03m\"\"\"\u001b[39;00m\n\u001b[0;32m     22\u001b[0m \u001b[38;5;66;03m# Check(s)\u001b[39;00m\n\u001b[0;32m     23\u001b[0m \u001b[38;5;66;03m#assert False not in [train, test, signal, background]\u001b[39;00m\n\u001b[0;32m     24\u001b[0m \u001b[38;5;66;03m#if sample: assert 0 < sample and sample < 1.\u001b[39;00m\n\u001b[0;32m     25\u001b[0m \n\u001b[0;32m     26\u001b[0m \u001b[38;5;66;03m# Read data from HDF5 file\u001b[39;00m\n\u001b[1;32m---> 27\u001b[0m data \u001b[38;5;241m=\u001b[39m \u001b[43mpd\u001b[49m\u001b[38;5;241;43m.\u001b[39;49m\u001b[43mread_hdf\u001b[49m\u001b[43m(\u001b[49m\u001b[43mpath\u001b[49m\u001b[43m)\u001b[49m\n\u001b[0;32m     29\u001b[0m \u001b[38;5;66;03m# Subsample signal by x10 for testing: 1E+07 -> 1E+06\u001b[39;00m\n\u001b[0;32m     30\u001b[0m np\u001b[38;5;241m.\u001b[39mrandom\u001b[38;5;241m.\u001b[39mseed(\u001b[38;5;241m7\u001b[39m)\n",
      "File \u001b[1;32m~\\anaconda3\\lib\\site-packages\\pandas\\io\\pytables.py:427\u001b[0m, in \u001b[0;36mread_hdf\u001b[1;34m(path_or_buf, key, mode, errors, where, start, stop, columns, iterator, chunksize, **kwargs)\u001b[0m\n\u001b[0;32m    424\u001b[0m     exists \u001b[38;5;241m=\u001b[39m \u001b[38;5;28;01mFalse\u001b[39;00m\n\u001b[0;32m    426\u001b[0m \u001b[38;5;28;01mif\u001b[39;00m \u001b[38;5;129;01mnot\u001b[39;00m exists:\n\u001b[1;32m--> 427\u001b[0m     \u001b[38;5;28;01mraise\u001b[39;00m \u001b[38;5;167;01mFileNotFoundError\u001b[39;00m(\u001b[38;5;124mf\u001b[39m\u001b[38;5;124m\"\u001b[39m\u001b[38;5;124mFile \u001b[39m\u001b[38;5;132;01m{\u001b[39;00mpath_or_buf\u001b[38;5;132;01m}\u001b[39;00m\u001b[38;5;124m does not exist\u001b[39m\u001b[38;5;124m\"\u001b[39m)\n\u001b[0;32m    429\u001b[0m store \u001b[38;5;241m=\u001b[39m HDFStore(path_or_buf, mode\u001b[38;5;241m=\u001b[39mmode, errors\u001b[38;5;241m=\u001b[39merrors, \u001b[38;5;241m*\u001b[39m\u001b[38;5;241m*\u001b[39mkwargs)\n\u001b[0;32m    430\u001b[0m \u001b[38;5;66;03m# can't auto open/close if we are using an iterator\u001b[39;00m\n\u001b[0;32m    431\u001b[0m \u001b[38;5;66;03m# so delegate to the iterator\u001b[39;00m\n",
      "\u001b[1;31mFileNotFoundError\u001b[0m: File /Users/bolit/OneDrive/Documentos/Tec/7_semestre/investigacion/CWoLa_ANN_Analysis/DataF.h5 does not exist"
     ]
    }
   ],
   "source": [
    "\n",
    " # Define variable(s)\n",
    "name    = 'classifier'\n",
    "basedir = '/Users/bolit/OneDrive/Documentos/Tec/7_semestre/investigacion/CWoLa_ANN_Analysis/hybrid_method/output'\n",
    "\n",
    "ann_rocs = pd.DataFrame(columns=['fpr', 'tpr'])\n",
    "\n",
    "\n",
    "\n",
    "data, features, features_decorrelation = load_data('/Users/bolit/OneDrive/Documentos/Tec/7_semestre/investigacion/CWoLa_ANN_Analysis/DataF.h5', test=True)\n",
    "\n",
    "# Prepare arrays\n",
    "X = data[features].values\n",
    "Y = data['signal'].values\n",
    "\n",
    "\n",
    "classifier, history = load(basedir, name)\n",
    "\n",
    "# Predict\n",
    "scores_ann = classifier.predict(X, batch_size = 1024) #X reemplazar por datos CWola\n",
    "\n",
    "\n",
    "fpr_ann, tpr_ann, _ = roc_curve(Y, scores_ann)\n",
    "\n",
    "\n",
    "ann_rocs = ann_rocs.append({'fpr': fpr_ann, 'tpr': tpr_ann}, ignore_index=True)\n",
    "\n"
   ]
  },
  {
   "cell_type": "code",
   "execution_count": null,
   "metadata": {},
   "outputs": [],
   "source": [
    "# ANN\n",
    "fpr_interp = [None] * len(ann_rocs)\n",
    "    \n",
    "for i, row in ann_rocs.iterrows():\n",
    "    fpr, tpr = row\n",
    "    interp = interpolate.interp1d(tpr, fpr, fill_value=float('nan'), bounds_error=False, assume_sorted=True)\n",
    "\n",
    "    fpr_pts = interp(tpr_pts)\n",
    "    fpr_interp[i] = fpr_pts\n",
    "\n",
    "fpr_interp = np.ma.masked_invalid(1./np.array(fpr_interp))\n",
    "\n",
    "ann_max = np.nanmax(fpr_interp, axis=0).data\n",
    "ann_min = np.nanmin(fpr_interp, axis=0).data\n",
    "ann_med = np.median(fpr_interp, axis=0).data\n",
    "ann_mean = np.nanmean(fpr_interp, axis=0).data\n",
    "ann_std = np.nanstd(fpr_interp, axis=0).data\n",
    "   \n",
    "sig_interp = np.ma.masked_invalid(np.sqrt(fpr_interp))\n",
    "    \n",
    "ann_smean = np.nanmean(sig_interp, axis=0).data\n",
    "ann_sstd = np.nanstd(sig_interp, axis=0).data"
   ]
  },
  {
   "cell_type": "code",
   "execution_count": null,
   "metadata": {},
   "outputs": [],
   "source": [
    "bands = {'cwola': (cwola_max, cwola_med, cwola_min, cwola_mean, cwola_std, cwola_smean, cwola_sstd, {'label':'CWoLa', 'color':'red', 'ls':':'}),\n",
    "         #'dvsim': (dvsim_max, dvsim_med, dvsim_min, dvsim_mean, dvsim_std, dvsim_smean, dvsim_sstd, {'label':'Data vs. Sim', 'color':'blue', 'ls':':'}),\n",
    "        'ocwola': (ocwola_max, ocwola_med, ocwola_min, ocwola_mean, ocwola_std, ocwola_smean, ocwola_sstd, {'label':'Optimal CWoLa', 'color':'red'}),\n",
    "          'autoencoder': (ae_max, ae_med, ae_min, ae_mean, ae_std, ae_smean, ae_sstd, {'label':\"Autoencoder\".format(1), 'color':'blue'}),\n",
    "          'SALAD': (SALAD_max, SALAD_med, SALAD_min, SALAD_mean, SALAD_std, SALAD_smean, SALAD_sstd, {'label':'SALAD', 'color':'tab:purple'}),\n",
    "          'ANN': (ann_max, ann_med, ann_min, ann_mean, ann_std, ann_smean, ann_sstd, {'label':'ANN', 'color':'tab:orange'}),\n",
    "          'sacwola': (ksacwola_max, ksacwola_med, ksacwola_min, ksacwola_mean, ksacwola_std, ksacwola_smean, ksacwola_sstd, {'label':\"SA-CWoLa, $\\lambda = {}$\".format(myklambda), 'color':'black'}),\n",
    "          }"
   ]
  },
  {
   "cell_type": "code",
   "execution_count": null,
   "metadata": {},
   "outputs": [],
   "source": [
    "# Plot without banding\n",
    "mylambda=.5\n",
    "myklambda = 1 #np.round(len(SR_background_data)/len(SR_background_sim), 3)\n",
    "\n",
    "fig = plt.figure(figsize=(8, 6)) \n",
    "gs = gridspec.GridSpec(1, 1, height_ratios=[1])\n",
    "ax0 = plt.subplot(gs[0])\n",
    "ax0.yaxis.set_ticks_position('both')\n",
    "ax0.xaxis.set_ticks_position('both')\n",
    "ax0.tick_params(direction=\"in\",which=\"both\")\n",
    "ax0.minorticks_on()\n",
    "plt.xticks(fontsize=20)\n",
    "plt.yticks(fontsize=20)\n",
    "\n",
    "plt.yscale(\"log\")\n",
    "plt.ylim([1,5*1e4])\n",
    "ERR=False\n",
    "plt.plot(tpr_sup,1./fpr_sup,label=\"Supervised\",color='green')\n",
    "\n",
    "for band in bands:\n",
    "    if band in ['old-sacwola', 'hl-sacwola']:\n",
    "        continue\n",
    "    mu,std = bands[band][3:5]\n",
    "\n",
    "    plt.plot(tpr_pts, mu, **bands[band][-1])\n",
    "    if ERR:\n",
    "        plt.fill_between(tpr_pts, mu - std, mu + std, alpha=.2, color=bands[band][-1]['color'])\n",
    "#plt.plot(tpr_sup,1./tpr_sup,color=\"black\",ls=\":\",label=\"Random\")\n",
    "\n",
    "plt.xlabel(r'Signal Efficiency (True Positive Rate)',fontsize=20)\n",
    "plt.ylabel(r\"Rejection (1/False Positive Rate)\",fontsize=20)\n",
    "plt.legend(frameon=False,fontsize=15,loc=\"upper right\")\n",
    "\n",
    "# plt.title(\"Correlated LHCO Example\\n(Median of {} models)\".format(n_injections),fontsize=20,)\n",
    "#plt.savefig('C:/Users/knukl/Desktop/FINAL/plots/combined_corr_deltamj_extracorr.pdf', pdf=True, bbox_inches='tight')\n",
    "#plt.savefig('C:/Users/knukl/Desktop/FINAL/plots/combined_corr_deltamj_extracorr.png', pdf=False, bbox_inches='tight')\n",
    "# plt.show()"
   ]
  },
  {
   "cell_type": "code",
   "execution_count": null,
   "metadata": {},
   "outputs": [],
   "source": [
    "# Plot without banding\n",
    "mylambda=.5\n",
    "myklambda = 1 #np.round(len(SR_background_data)/len(SR_background_sim), 3)\n",
    "\n",
    "ERR = False\n",
    "\n",
    "fig = plt.figure(figsize=(8, 6)) \n",
    "gs = gridspec.GridSpec(1, 1, height_ratios=[1])\n",
    "ax0 = plt.subplot(gs[0])\n",
    "ax0.yaxis.set_ticks_position('both')\n",
    "ax0.xaxis.set_ticks_position('both')\n",
    "ax0.tick_params(direction=\"in\",which=\"both\")\n",
    "ax0.minorticks_on()\n",
    "plt.xticks(fontsize=20)\n",
    "plt.yticks(fontsize=20)\n",
    "\n",
    "plt.ylim([0, 6])\n",
    "\n",
    "\n",
    "\n",
    "for band in bands:\n",
    "    if band in ['old-sacwola', 'hl-sacwola']:\n",
    "        continue\n",
    "    mu,std = bands[band][5:7]\n",
    "    plt.plot(tpr_pts, tpr_pts*mu, **bands[band][-1])\n",
    "plt.plot(tpr_sup,tpr_sup/np.sqrt(tpr_sup),color=\"black\",ls=\":\",label=\"Random\")\n",
    "\n",
    "plt.xlabel(r'Signal Efficiency (True Positive Rate)',fontsize=20)\n",
    "plt.ylabel(r\"Significance improvement\",fontsize=20)\n",
    "plt.legend(frameon=False,fontsize=10,loc=\"upper right\")\n",
    "#plt.title(r'$LHC$ $Olympics$ $Example$', loc='right', fontsize=20)\n",
    "\n",
    "#plt.savefig('C:/Users/knukl/Desktop/FINAL/plots/combined_relsigs_corr_deltamj_extracorr.pdf', pdf=True, bbox_inches='tight')\n",
    "#plt.savefig('C:/Users/knukl/Desktop/FINAL/plots/combined_relsigs_corr_deltamj_extracorr.png', pdf=False, bbox_inches='tight')"
   ]
  },
  {
   "cell_type": "code",
   "execution_count": null,
   "metadata": {},
   "outputs": [],
   "source": []
  }
 ],
 "metadata": {
  "kernelspec": {
   "display_name": "Python 3 (ipykernel)",
   "language": "python",
   "name": "python3"
  },
  "language_info": {
   "codemirror_mode": {
    "name": "ipython",
    "version": 3
   },
   "file_extension": ".py",
   "mimetype": "text/x-python",
   "name": "python",
   "nbconvert_exporter": "python",
   "pygments_lexer": "ipython3",
   "version": "3.9.12"
  },
  "vscode": {
   "interpreter": {
    "hash": "fee80c4c56eadf17177ecd60dd2f80c18747cfee5bd9241de1a359e037f61796"
   }
  }
 },
 "nbformat": 4,
 "nbformat_minor": 2
}
